{
 "cells": [
  {
   "cell_type": "code",
   "execution_count": 1,
   "metadata": {},
   "outputs": [],
   "source": [
    "%load_ext autoreload\n",
    "%autoreload 2"
   ]
  },
  {
   "cell_type": "code",
   "execution_count": 2,
   "metadata": {},
   "outputs": [
    {
     "name": "stderr",
     "output_type": "stream",
     "text": [
      "/home/ddicarlo/Documents/Code/InProgress/2019@Barilan_dataset_dechorate/venv/lib/python3.6/site-packages/librosa/util/decorators.py:9: NumbaDeprecationWarning: An import was requested from a module that has moved location.\n",
      "Import of 'jit' requested from: 'numba.decorators', please update to use 'numba.core.decorators' or pin to Numba version 0.48.0. This alias will not be present in Numba version 0.50.0.\n",
      "  from numba.decorators import jit as optional_jit\n"
     ]
    }
   ],
   "source": [
    "import numpy as np\n",
    "import matplotlib.pyplot as plt\n",
    "import soundfile as sf\n",
    "\n",
    "from dechorate import constants\n",
    "from dechorate.dataset import DechorateDataset, SyntheticDataset\n",
    "from dechorate.utils.file_utils import save_to_pickle, load_from_pickle, save_to_matlab\n",
    "from dechorate.utils.dsp_utils import normalize, resample, envelope\n",
    "\n",
    "from risotto.rtf import estimate_rtf\n",
    "\n",
    "from brioche.beamformer import DS, MVDR, LCMV\n",
    "from brioche.utils.dsp_utils import diffuse_noise"
   ]
  },
  {
   "cell_type": "code",
   "execution_count": 3,
   "metadata": {},
   "outputs": [],
   "source": [
    "curr_dir = '../recipes/echo_aware_processing/'\n",
    "data_filename = curr_dir + 'data_notebook.pkl'"
   ]
  },
  {
   "cell_type": "markdown",
   "metadata": {},
   "source": [
    "# Get the data: RIRs and Annotation\n",
    "\n",
    "Surf the dEchorate and load the RIRs and the correspondent annotation"
   ]
  },
  {
   "cell_type": "code",
   "execution_count": 4,
   "metadata": {},
   "outputs": [],
   "source": [
    "dataset_dir = '../data/dECHORATE/'\n",
    "path_to_processed = '../data/processed/'\n",
    "path_to_note_csv = dataset_dir + 'annotations/dECHORATE_database.csv'\n",
    "path_to_after_calibration = path_to_processed + \\\n",
    "    'post2_calibration/calib_output_mics_srcs_pos.pkl'\n",
    "\n",
    "# Some constant of the dataset\n",
    "L = constants['rir_length']\n",
    "Fs = constants['Fs']\n",
    "c = constants['speed_of_sound']\n",
    "L = constants['rir_length']\n",
    "datasets_name = constants['datasets'][:6]\n",
    "D = len(datasets_name)\n",
    "\n",
    "# Annotation, RIRs from measurements, 'equivalent' synthetic RIRs\n",
    "note_dict = load_from_pickle(path_to_after_calibration)\n",
    "rdset = DechorateDataset(path_to_processed, path_to_note_csv)\n",
    "sdset = SyntheticDataset()\n"
   ]
  },
  {
   "cell_type": "code",
   "execution_count": 5,
   "metadata": {},
   "outputs": [],
   "source": [
    "# which microphones?\n",
    "mics_idxs = [15, 16, 17, 18, 19]\n",
    "I = len(mics_idxs)\n",
    "# which mic is the reference?\n",
    "ref_mic = 3 # the third\n",
    "\n",
    "# which source?\n",
    "srcs_idxs = [0, 1]\n",
    "J = len(srcs_idxs)\n",
    "# which src is the one to enhance?\n",
    "tgt_src = 0 # the first\n",
    "\n",
    "# how many echoes to rake?\n",
    "K = 7\n",
    "# in which order?\n",
    "order = 'order' # earliest, strongest, order"
   ]
  },
  {
   "cell_type": "code",
   "execution_count": 22,
   "metadata": {},
   "outputs": [
    {
     "name": "stdout",
     "output_type": "stream",
     "text": [
      "done with the extraction\n",
      "Saved.\n"
     ]
    }
   ],
   "source": [
    "rirs_real = np.zeros([L, I, J, D])\n",
    "rirs_synt = np.zeros([L, I, J, D])\n",
    "mics = np.zeros([3, I])\n",
    "srcs = np.zeros([3, J])\n",
    "toas = np.zeros([K, I, J])\n",
    "toas_synt = np.zeros_like(toas)\n",
    "toas_peak = np.zeros_like(toas)\n",
    "\n",
    "for d, dset in enumerate(datasets_name):\n",
    "    for i, m in enumerate(mics_idxs):\n",
    "        for j, s in enumerate(srcs_idxs):\n",
    "\n",
    "            # get rir from the recondings\n",
    "            rdset.set_dataset(dset)\n",
    "            rdset.set_entry(m, s)\n",
    "            mic, src = rdset.get_mic_and_src_pos()\n",
    "            _, rrir = rdset.get_rir()\n",
    "\n",
    "            # measure after calibration\n",
    "            mics[:, i] = note_dict['mics'][:, m]\n",
    "            srcs[:, j] = note_dict['srcs'][:, s]\n",
    "\n",
    "            # get synthetic rir\n",
    "            sdset = SyntheticDataset()\n",
    "            sdset.set_room_size(constants['room_size'])\n",
    "            sdset.set_dataset(dset, absb=0.85, refl=0.15)\n",
    "            sdset.set_c(c)\n",
    "            sdset.set_k_order(17)\n",
    "            sdset.set_mic(mics[0, i], mics[1, i], mics[2, i])\n",
    "            sdset.set_src(srcs[0, j], srcs[1, j], srcs[2, j])\n",
    "            # amp, tau, wall, order, gen = sdset.get_note()\n",
    "\n",
    "            _, srir = sdset.get_rir(normalize=False)\n",
    "            Ls = len(srir)\n",
    "\n",
    "            # measure after calibration\n",
    "            rirs_real[:, i, j, d] = rrir[:L]\n",
    "            rirs_synt[:Ls, i, j, d] = srir[:Ls]\n",
    "\n",
    "            toas_synt[:K, i, j] = note_dict['toa_sym'][:K, m, s]\n",
    "            toas_peak[:K, i, j] = note_dict['toa_pck'][:K, m, s]\n",
    "\n",
    "print('done with the extraction')\n",
    "rirs_real = np.squeeze(rirs_real)\n",
    "rirs_synt = np.squeeze(rirs_synt)\n",
    "\n",
    "data = {\n",
    "    'rirs_real' : rirs_real,\n",
    "    'rirs_synt' : rirs_synt,\n",
    "    'mics' : mics,\n",
    "    'srcs' : srcs,\n",
    "    'toas_synt' : toas_synt,\n",
    "    'toas_peak' : toas_peak,\n",
    "}\n",
    "\n",
    "\n",
    "save_to_pickle(data_filename, data)\n",
    "print('Saved.')"
   ]
  },
  {
   "cell_type": "markdown",
   "metadata": {},
   "source": [
    "## Compute amplitudes with Condat's formula"
   ]
  },
  {
   "cell_type": "code",
   "execution_count": 82,
   "metadata": {},
   "outputs": [
    {
     "name": "stdout",
     "output_type": "stream",
     "text": [
      "[ 3.74731700e-03 -6.66118495e-05  2.64865424e-05  4.52034036e-04\n",
      " -2.87476962e-05  4.70397051e-05 -8.70360709e-05]\n"
     ]
    },
    {
     "data": {
      "image/png": "[encoded data removed]",
      "text/plain": [
       "<Figure size 432x288 with 1 Axes>"
      ]
     },
     "metadata": {
      "needs_background": "light"
     },
     "output_type": "display_data"
    },
    {
     "ename": "ZeroDivisionError",
     "evalue": "division by zero",
     "output_type": "error",
     "traceback": [
      "\u001b[0;31m---------------------------------------------------------------------------\u001b[0m",
      "\u001b[0;31mZeroDivisionError\u001b[0m                         Traceback (most recent call last)",
      "\u001b[0;32m<ipython-input-82-50ea888d462d>\u001b[0m in \u001b[0;36m<module>\u001b[0;34m\u001b[0m\n\u001b[1;32m     18\u001b[0m             \u001b[0mplt\u001b[0m\u001b[0;34m.\u001b[0m\u001b[0mscatter\u001b[0m\u001b[0;34m(\u001b[0m\u001b[0mtk\u001b[0m\u001b[0;34m,\u001b[0m \u001b[0mak\u001b[0m\u001b[0;34m)\u001b[0m\u001b[0;34m\u001b[0m\u001b[0;34m\u001b[0m\u001b[0m\n\u001b[1;32m     19\u001b[0m             \u001b[0mplt\u001b[0m\u001b[0;34m.\u001b[0m\u001b[0mshow\u001b[0m\u001b[0;34m(\u001b[0m\u001b[0;34m)\u001b[0m\u001b[0;34m\u001b[0m\u001b[0;34m\u001b[0m\u001b[0m\n\u001b[0;32m---> 20\u001b[0;31m             \u001b[0;36m1\u001b[0m\u001b[0;34m/\u001b[0m\u001b[0;36m0\u001b[0m\u001b[0;34m\u001b[0m\u001b[0;34m\u001b[0m\u001b[0m\n\u001b[0m",
      "\u001b[0;31mZeroDivisionError\u001b[0m: division by zero"
     ]
    }
   ],
   "source": [
    "for j in range(J):\n",
    "    for i in range(I):\n",
    "        for d in range(D):\n",
    "            \n",
    "            tk = toas_synt[:, i, j]\n",
    "            L = int(np.max(toas_synt[:, i, j])*Fs)+500\n",
    "            tau = L/Fs\n",
    "            rir = rirs_synt[:L, i, j, d]\n",
    "            v = np.fft.fft(rir)\n",
    "            M = (len(v)-1)/2\n",
    "            MM = np.arange(-M,M+1)\n",
    "            assert -MM[0] == MM[-1]\n",
    "            assert len(MM) == len(v)\n",
    "            U = np.exp(-1j*2*np.pi*MM[:,None]@tk[None,:]/tau)\n",
    "            ak = np.real(np.linalg.lstsq(U, v, rcond=None)[0])\n",
    "            print(ak)\n",
    "            plt.plot(np.arange(L)/Fs, rir)\n",
    "            plt.scatter(tk, ak)\n",
    "            plt.show()\n",
    "            1/0"
   ]
  },
  {
   "cell_type": "code",
   "execution_count": 23,
   "metadata": {},
   "outputs": [
    {
     "ename": "ValueError",
     "evalue": "x and y must be the same size",
     "output_type": "error",
     "traceback": [
      "\u001b[0;31m---------------------------------------------------------------------------\u001b[0m",
      "\u001b[0;31mValueError\u001b[0m                                Traceback (most recent call last)",
      "\u001b[0;32m<ipython-input-23-ad9b1575f176>\u001b[0m in \u001b[0;36m<module>\u001b[0;34m\u001b[0m\n\u001b[1;32m      9\u001b[0m \u001b[0mplt\u001b[0m\u001b[0;34m.\u001b[0m\u001b[0mplot\u001b[0m\u001b[0;34m(\u001b[0m\u001b[0menvelope\u001b[0m\u001b[0;34m(\u001b[0m\u001b[0mrirs_real\u001b[0m\u001b[0;34m[\u001b[0m\u001b[0;34m:\u001b[0m\u001b[0;34m,\u001b[0m \u001b[0mi\u001b[0m\u001b[0;34m,\u001b[0m \u001b[0mj\u001b[0m\u001b[0;34m,\u001b[0m \u001b[0md\u001b[0m\u001b[0;34m]\u001b[0m\u001b[0;34m)\u001b[0m\u001b[0;34m)\u001b[0m\u001b[0;34m\u001b[0m\u001b[0;34m\u001b[0m\u001b[0m\n\u001b[1;32m     10\u001b[0m \u001b[0mplt\u001b[0m\u001b[0;34m.\u001b[0m\u001b[0mplot\u001b[0m\u001b[0;34m(\u001b[0m\u001b[0ma\u001b[0m \u001b[0;34m*\u001b[0m \u001b[0mnormalize\u001b[0m\u001b[0;34m(\u001b[0m\u001b[0mrirs_synt\u001b[0m\u001b[0;34m[\u001b[0m\u001b[0;34m:\u001b[0m\u001b[0;34m,\u001b[0m \u001b[0mi\u001b[0m\u001b[0;34m,\u001b[0m \u001b[0mj\u001b[0m\u001b[0;34m,\u001b[0m \u001b[0md\u001b[0m\u001b[0;34m]\u001b[0m\u001b[0;34m)\u001b[0m\u001b[0;34m)\u001b[0m\u001b[0;34m\u001b[0m\u001b[0;34m\u001b[0m\u001b[0m\n\u001b[0;32m---> 11\u001b[0;31m \u001b[0mplt\u001b[0m\u001b[0;34m.\u001b[0m\u001b[0mscatter\u001b[0m\u001b[0;34m(\u001b[0m\u001b[0mtoas\u001b[0m\u001b[0;34m,\u001b[0m \u001b[0mamps\u001b[0m\u001b[0;34m)\u001b[0m\u001b[0;34m\u001b[0m\u001b[0;34m\u001b[0m\u001b[0m\n\u001b[0m\u001b[1;32m     12\u001b[0m \u001b[0mplt\u001b[0m\u001b[0;34m.\u001b[0m\u001b[0mxlim\u001b[0m\u001b[0;34m(\u001b[0m\u001b[0mt1\u001b[0m \u001b[0;34m-\u001b[0m \u001b[0;36m30\u001b[0m\u001b[0;34m,\u001b[0m \u001b[0mt1\u001b[0m\u001b[0;34m+\u001b[0m\u001b[0;36m500\u001b[0m\u001b[0;34m)\u001b[0m\u001b[0;34m\u001b[0m\u001b[0;34m\u001b[0m\u001b[0m\n\u001b[1;32m     13\u001b[0m \u001b[0mplt\u001b[0m\u001b[0;34m.\u001b[0m\u001b[0mshow\u001b[0m\u001b[0;34m(\u001b[0m\u001b[0;34m)\u001b[0m\u001b[0;34m\u001b[0m\u001b[0;34m\u001b[0m\u001b[0m\n",
      "\u001b[0;32m~/Documents/Code/InProgress/2019@Barilan_dataset_dechorate/venv/lib/python3.6/site-packages/matplotlib/pyplot.py\u001b[0m in \u001b[0;36mscatter\u001b[0;34m(x, y, s, c, marker, cmap, norm, vmin, vmax, alpha, linewidths, verts, edgecolors, plotnonfinite, data, **kwargs)\u001b[0m\n\u001b[1;32m   2839\u001b[0m         \u001b[0mverts\u001b[0m\u001b[0;34m=\u001b[0m\u001b[0mverts\u001b[0m\u001b[0;34m,\u001b[0m \u001b[0medgecolors\u001b[0m\u001b[0;34m=\u001b[0m\u001b[0medgecolors\u001b[0m\u001b[0;34m,\u001b[0m\u001b[0;34m\u001b[0m\u001b[0;34m\u001b[0m\u001b[0m\n\u001b[1;32m   2840\u001b[0m         plotnonfinite=plotnonfinite, **({\"data\": data} if data is not\n\u001b[0;32m-> 2841\u001b[0;31m         None else {}), **kwargs)\n\u001b[0m\u001b[1;32m   2842\u001b[0m     \u001b[0msci\u001b[0m\u001b[0;34m(\u001b[0m\u001b[0m__ret\u001b[0m\u001b[0;34m)\u001b[0m\u001b[0;34m\u001b[0m\u001b[0;34m\u001b[0m\u001b[0m\n\u001b[1;32m   2843\u001b[0m     \u001b[0;32mreturn\u001b[0m \u001b[0m__ret\u001b[0m\u001b[0;34m\u001b[0m\u001b[0;34m\u001b[0m\u001b[0m\n",
      "\u001b[0;32m~/Documents/Code/InProgress/2019@Barilan_dataset_dechorate/venv/lib/python3.6/site-packages/matplotlib/__init__.py\u001b[0m in \u001b[0;36minner\u001b[0;34m(ax, data, *args, **kwargs)\u001b[0m\n\u001b[1;32m   1597\u001b[0m     \u001b[0;32mdef\u001b[0m \u001b[0minner\u001b[0m\u001b[0;34m(\u001b[0m\u001b[0max\u001b[0m\u001b[0;34m,\u001b[0m \u001b[0;34m*\u001b[0m\u001b[0margs\u001b[0m\u001b[0;34m,\u001b[0m \u001b[0mdata\u001b[0m\u001b[0;34m=\u001b[0m\u001b[0;32mNone\u001b[0m\u001b[0;34m,\u001b[0m \u001b[0;34m**\u001b[0m\u001b[0mkwargs\u001b[0m\u001b[0;34m)\u001b[0m\u001b[0;34m:\u001b[0m\u001b[0;34m\u001b[0m\u001b[0;34m\u001b[0m\u001b[0m\n\u001b[1;32m   1598\u001b[0m         \u001b[0;32mif\u001b[0m \u001b[0mdata\u001b[0m \u001b[0;32mis\u001b[0m \u001b[0;32mNone\u001b[0m\u001b[0;34m:\u001b[0m\u001b[0;34m\u001b[0m\u001b[0;34m\u001b[0m\u001b[0m\n\u001b[0;32m-> 1599\u001b[0;31m             \u001b[0;32mreturn\u001b[0m \u001b[0mfunc\u001b[0m\u001b[0;34m(\u001b[0m\u001b[0max\u001b[0m\u001b[0;34m,\u001b[0m \u001b[0;34m*\u001b[0m\u001b[0mmap\u001b[0m\u001b[0;34m(\u001b[0m\u001b[0msanitize_sequence\u001b[0m\u001b[0;34m,\u001b[0m \u001b[0margs\u001b[0m\u001b[0;34m)\u001b[0m\u001b[0;34m,\u001b[0m \u001b[0;34m**\u001b[0m\u001b[0mkwargs\u001b[0m\u001b[0;34m)\u001b[0m\u001b[0;34m\u001b[0m\u001b[0;34m\u001b[0m\u001b[0m\n\u001b[0m\u001b[1;32m   1600\u001b[0m \u001b[0;34m\u001b[0m\u001b[0m\n\u001b[1;32m   1601\u001b[0m         \u001b[0mbound\u001b[0m \u001b[0;34m=\u001b[0m \u001b[0mnew_sig\u001b[0m\u001b[0;34m.\u001b[0m\u001b[0mbind\u001b[0m\u001b[0;34m(\u001b[0m\u001b[0max\u001b[0m\u001b[0;34m,\u001b[0m \u001b[0;34m*\u001b[0m\u001b[0margs\u001b[0m\u001b[0;34m,\u001b[0m \u001b[0;34m**\u001b[0m\u001b[0mkwargs\u001b[0m\u001b[0;34m)\u001b[0m\u001b[0;34m\u001b[0m\u001b[0;34m\u001b[0m\u001b[0m\n",
      "\u001b[0;32m~/Documents/Code/InProgress/2019@Barilan_dataset_dechorate/venv/lib/python3.6/site-packages/matplotlib/axes/_axes.py\u001b[0m in \u001b[0;36mscatter\u001b[0;34m(self, x, y, s, c, marker, cmap, norm, vmin, vmax, alpha, linewidths, verts, edgecolors, plotnonfinite, **kwargs)\u001b[0m\n\u001b[1;32m   4441\u001b[0m         \u001b[0my\u001b[0m \u001b[0;34m=\u001b[0m \u001b[0mnp\u001b[0m\u001b[0;34m.\u001b[0m\u001b[0mma\u001b[0m\u001b[0;34m.\u001b[0m\u001b[0mravel\u001b[0m\u001b[0;34m(\u001b[0m\u001b[0my\u001b[0m\u001b[0;34m)\u001b[0m\u001b[0;34m\u001b[0m\u001b[0;34m\u001b[0m\u001b[0m\n\u001b[1;32m   4442\u001b[0m         \u001b[0;32mif\u001b[0m \u001b[0mx\u001b[0m\u001b[0;34m.\u001b[0m\u001b[0msize\u001b[0m \u001b[0;34m!=\u001b[0m \u001b[0my\u001b[0m\u001b[0;34m.\u001b[0m\u001b[0msize\u001b[0m\u001b[0;34m:\u001b[0m\u001b[0;34m\u001b[0m\u001b[0;34m\u001b[0m\u001b[0m\n\u001b[0;32m-> 4443\u001b[0;31m             \u001b[0;32mraise\u001b[0m \u001b[0mValueError\u001b[0m\u001b[0;34m(\u001b[0m\u001b[0;34m\"x and y must be the same size\"\u001b[0m\u001b[0;34m)\u001b[0m\u001b[0;34m\u001b[0m\u001b[0;34m\u001b[0m\u001b[0m\n\u001b[0m\u001b[1;32m   4444\u001b[0m \u001b[0;34m\u001b[0m\u001b[0m\n\u001b[1;32m   4445\u001b[0m         \u001b[0;32mif\u001b[0m \u001b[0ms\u001b[0m \u001b[0;32mis\u001b[0m \u001b[0;32mNone\u001b[0m\u001b[0;34m:\u001b[0m\u001b[0;34m\u001b[0m\u001b[0;34m\u001b[0m\u001b[0m\n",
      "\u001b[0;31mValueError\u001b[0m: x and y must be the same size"
     ]
    },
    {
     "data": {
      "image/png": "[encoded data removed]",
      "text/plain": [
       "<Figure size 432x288 with 1 Axes>"
      ]
     },
     "metadata": {
      "needs_background": "light"
     },
     "output_type": "display_data"
    }
   ],
   "source": [
    "# Plot on sample\n",
    "i, j, d = (0, 0, 0)\n",
    "\n",
    "a = np.max(np.abs(rirs_real[:, i, j, d]))\n",
    "t1  = np.argmax(rirs_synt[:, i, j, d])\n",
    "\n",
    "\n",
    "plt.plot(rirs_real[:, i, j, d])\n",
    "plt.plot(envelope(rirs_real[:, i, j, d]))\n",
    "plt.plot(a * normalize(rirs_synt[:, i, j, d]))\n",
    "plt.scatter(toas, amps)\n",
    "plt.xlim(t1 - 30, t1+500)\n",
    "plt.show()"
   ]
  },
  {
   "cell_type": "markdown",
   "metadata": {},
   "source": [
    "# Load the Real Data\n",
    "load samples from the WSJ dataset and convolve in with the rirs"
   ]
  },
  {
   "cell_type": "code",
   "execution_count": 11,
   "metadata": {},
   "outputs": [],
   "source": [
    "data_dir = curr_dir + 'TIMIT_long_nili/'\n",
    "s1m = data_dir + 'DR5_MHMG0_SX195_SX285_SX375_7s.wav'\n",
    "s2m = data_dir + 'DR7_MGAR0_SX312_SX402_7s.wav'\n",
    "s1f = data_dir + 'DR1_FTBR0_SX201_SI921_7s.wav'\n",
    "s2f = data_dir + 'DR4_FKLC0_SI985_SI2245_7s.wav'\n",
    "\n",
    "files = [s1m, s2m, s1f, s2f]\n",
    "N = len(files)"
   ]
  },
  {
   "cell_type": "code",
   "execution_count": 12,
   "metadata": {},
   "outputs": [
    {
     "name": "stdout",
     "output_type": "stream",
     "text": [
      "done.\n",
      "Fs wavs is 16000\n"
     ]
    }
   ],
   "source": [
    "wavs = []\n",
    "for file in files:\n",
    "    wav, fs = sf.read(file)\n",
    "    assert len(wav.shape) == 1\n",
    "    wavs.append(wav[:7*fs])\n",
    "print('done.')\n",
    "print('Fs wavs is', fs)"
   ]
  },
  {
   "cell_type": "markdown",
   "metadata": {},
   "source": [
    "# Make Audio Scene"
   ]
  },
  {
   "cell_type": "code",
   "execution_count": 13,
   "metadata": {},
   "outputs": [
    {
     "name": "stdout",
     "output_type": "stream",
     "text": [
      "5\n"
     ]
    }
   ],
   "source": [
    "d = 0 # first dataset\n",
    "h_ = rirs_real[:, :, :, d] # real rirs\n",
    "r = 0 # reference mic\n",
    "inr = 15 # dB\n",
    "snr = 20 # dB\n",
    "sir = snr - inr # dB\n",
    "print(sir)"
   ]
  },
  {
   "cell_type": "code",
   "execution_count": 14,
   "metadata": {},
   "outputs": [
    {
     "data": {
      "text/plain": [
       "array([[3.35956993, 3.3818327 , 3.40966117, 3.44583818, 3.50149512],\n",
       "       [2.40748639, 2.44071843, 2.48225849, 2.53626056, 2.61934068],\n",
       "       [1.38561103, 1.38561103, 1.38561103, 1.38561103, 1.38561103]])"
      ]
     },
     "execution_count": 14,
     "metadata": {},
     "output_type": "execute_result"
    }
   ],
   "source": [
    "mic_pos = mics\n",
    "mic_pos"
   ]
  },
  {
   "cell_type": "code",
   "execution_count": 15,
   "metadata": {},
   "outputs": [
    {
     "data": {
      "text/plain": [
       "array([3.41967942, 2.49721291, 1.38561103])"
      ]
     },
     "execution_count": 15,
     "metadata": {},
     "output_type": "execute_result"
    }
   ],
   "source": [
    "arr_pos = np.mean(mics, 1)\n",
    "arr_pos"
   ]
  },
  {
   "cell_type": "code",
   "execution_count": 16,
   "metadata": {},
   "outputs": [
    {
     "data": {
      "text/plain": [
       "array([[1.89407487],\n",
       "       [4.52190448],\n",
       "       [1.4481839 ]])"
      ]
     },
     "execution_count": 16,
     "metadata": {},
     "output_type": "execute_result"
    }
   ],
   "source": [
    "tgt_pos = srcs[:, 0:1]\n",
    "tgt_pos"
   ]
  },
  {
   "cell_type": "code",
   "execution_count": 17,
   "metadata": {},
   "outputs": [
    {
     "data": {
      "text/plain": [
       "array([[1.6330509 ],\n",
       "       [0.8420041 ],\n",
       "       [1.02493109]])"
      ]
     },
     "execution_count": 17,
     "metadata": {},
     "output_type": "execute_result"
    }
   ],
   "source": [
    "itf_pos = srcs[:, 1:2]\n",
    "itf_pos"
   ]
  },
  {
   "cell_type": "code",
   "execution_count": null,
   "metadata": {},
   "outputs": [],
   "source": [
    "plt.scatter(mic_pos[0,:], mic_pos[1,:], label='mics')\n",
    "plt.scatter(tgt_pos[0,:], tgt_pos[1,:], label='target')\n",
    "plt.scatter(itf_pos[0,:], itf_pos[1,:], label='interferer')\n",
    "plt.annotate('',\n",
    "             (arr_pos[0], arr_pos[1]), \n",
    "             (tgt_pos[0], tgt_pos[1]),\n",
    "             arrowprops = {'arrowstyle' : '<-', \n",
    "                           'connectionstyle':'arc3',\n",
    "                           'color': 'C1'})\n",
    "plt.annotate('', \n",
    "             (arr_pos[0], arr_pos[1]), \n",
    "             (itf_pos[0], itf_pos[1]),\n",
    "             arrowprops = {'arrowstyle' : '<-', \n",
    "                           'connectionstyle':'arc3',\n",
    "                           'color': 'C2'})\n",
    "plt.xlim([0, 5])\n",
    "plt.ylim([0, 5])\n",
    "plt.legend()\n",
    "plt.show()"
   ]
  },
  {
   "cell_type": "markdown",
   "metadata": {},
   "source": [
    "# Make Mixtures"
   ]
  },
  {
   "cell_type": "code",
   "execution_count": null,
   "metadata": {},
   "outputs": [],
   "source": [
    "s1 = wavs[0]\n",
    "s2 = wavs[1]\n",
    "\n",
    "# center and scale for unit variance\n",
    "ss1 = (s1-np.mean(s1))/np.std(s1)\n",
    "ss2 = (s2-np.mean(s2))/np.std(s2)\n",
    "assert len(ss1) == len(ss2)\n",
    "\n",
    "plt.plot(ss1, label='target')\n",
    "plt.plot(ss2, label='interf')\n",
    "plt.legend()\n",
    "plt.show()"
   ]
  },
  {
   "cell_type": "code",
   "execution_count": null,
   "metadata": {},
   "outputs": [],
   "source": [
    "# Upsampling and stacking\n",
    "print(fs, '-->', Fs)\n",
    "s_ = np.concatenate([resample(ss1, fs, Fs)[:, None], \n",
    "                     resample(ss2, fs, Fs)[:, None]], axis=1)\n",
    "print(s_.shape)\n",
    "\n",
    "Lc = 10*fs\n",
    "c_ = np.zeros([Lc, I, J])\n",
    "\n",
    "# Convolution, downsampling and stacking\n",
    "print(fs, '-->', Fs)\n",
    "for i in range(I):\n",
    "    for j in range(J):\n",
    "        cs = np.convolve(h_[:, i, j], s_[:, j], 'full')\n",
    "        cs = resample(cs, Fs, fs)\n",
    "        L = len(cs)\n",
    "        print(i, j, L)\n",
    "        c_[:L, i, j] = cs\n",
    "        \n",
    "print('Done.')"
   ]
  },
  {
   "cell_type": "code",
   "execution_count": null,
   "metadata": {},
   "outputs": [],
   "source": [
    "plt.plot(c_[:, r, 0], label='target')\n",
    "plt.plot(c_[:, r, 1], label='interf')\n",
    "plt.legend()\n",
    "plt.show()"
   ]
  },
  {
   "cell_type": "code",
   "execution_count": null,
   "metadata": {},
   "outputs": [],
   "source": [
    "# Standardization wtr reference microphone\n",
    "sigma_target = np.std(c_[:7*fs, r, 0])\n",
    "sigma_interf = np.std(c_[:7*fs, r, 1])\n",
    "\n",
    "c_[:, :, 0] = c_[:, :, 0] / sigma_target\n",
    "c_[:, :, 1] = c_[:, :, 1] / sigma_interf\n",
    "\n",
    "# hereafter we assume that the two images have unit-variance at the reference microphone"
   ]
  },
  {
   "cell_type": "code",
   "execution_count": null,
   "metadata": {},
   "outputs": [],
   "source": [
    "plt.plot(c_[:, r, 0], label='target')\n",
    "plt.plot(c_[:, r, 1], label='interf')\n",
    "plt.legend()\n",
    "plt.show()"
   ]
  },
  {
   "cell_type": "code",
   "execution_count": null,
   "metadata": {},
   "outputs": [],
   "source": [
    "# lets add some silence and shift the source such that there is overlap\n",
    "cs1 = np.concatenate([np.zeros([2*fs, I]), c_[:, :, 0], np.zeros([4*fs, I]), np.zeros([2*fs, I])], axis=0)\n",
    "cs2 = np.concatenate([np.zeros([2*fs, I]), np.zeros([4*fs, I]), c_[:, :, 1], np.zeros([2*fs, I])], axis=0)\n",
    "# diffuse noise field simulation given the array geometry\n",
    "dn = diffuse_noise(mic_pos, cs1.shape[0], fs, c=343, N=32, mode='sphere').T\n",
    "assert dn.shape == cs1.shape\n",
    "# and unit-variance with respect to the ref mic\n",
    "dn = dn / np.std(dn[:, r])"
   ]
  },
  {
   "cell_type": "code",
   "execution_count": null,
   "metadata": {},
   "outputs": [],
   "source": [
    "plt.plot(cs1[:, r], label='target')\n",
    "plt.plot(cs2[:, r], label='interf')\n",
    "plt.plot(dn[:, r], label='mnoise')\n",
    "plt.legend(loc='upper right')\n",
    "plt.show()"
   ]
  },
  {
   "cell_type": "code",
   "execution_count": null,
   "metadata": {},
   "outputs": [],
   "source": [
    "def todB(x):\n",
    "    return 10*np.log10(x)"
   ]
  },
  {
   "cell_type": "code",
   "execution_count": null,
   "metadata": {},
   "outputs": [],
   "source": [
    "# # proof of the SIR/SNR/INR derivation\n",
    "# a = np.random.random(L)\n",
    "# b = np.random.random(L)\n",
    "# c = np.random.random(L)\n",
    "\n",
    "# snr = 40\n",
    "# inr = 2\n",
    "# sir = snr - inr\n",
    "\n",
    "# sigma_n = np.sqrt(10 ** (- snr / 10))\n",
    "# sigma_i = np.sqrt(10 ** (- sir / 10))\n",
    "\n",
    "# a = (a - np.mean(a))/np.std(a)\n",
    "# b = sigma_i*(b - np.mean(b))/np.std(b)\n",
    "# c = sigma_n*(c - np.mean(c))/np.std(c)\n",
    "\n",
    "# print('SNR', todB(np.var(a)/np.var(c)))\n",
    "# print('SIR', todB(np.var(a)/np.var(b)))\n",
    "# print('INR', todB(np.var(b)/np.var(c)))"
   ]
  },
  {
   "cell_type": "markdown",
   "metadata": {},
   "source": [
    "## Scale according to SNR and INR"
   ]
  },
  {
   "cell_type": "code",
   "execution_count": null,
   "metadata": {},
   "outputs": [],
   "source": [
    "sigma_n = np.sqrt(10 ** (- snr / 10))\n",
    "sigma_i = np.sqrt(10 ** (- sir / 10))\n",
    "\n",
    "cs1 = cs1\n",
    "cdn = sigma_n * dn\n",
    "cs2 = sigma_i * cs2"
   ]
  },
  {
   "cell_type": "code",
   "execution_count": null,
   "metadata": {},
   "outputs": [],
   "source": [
    "t = np.arange(len(cs1[:, r]))/fs\n",
    "plt.plot(t, cs1[:, r], label='target')\n",
    "plt.plot(t, cs2[:, r], label='interf')\n",
    "plt.plot(t, cdn[:, r], label='mnoise')\n",
    "plt.legend(loc='upper right')\n",
    "plt.show()"
   ]
  },
  {
   "cell_type": "markdown",
   "metadata": {},
   "source": [
    "## Mix all together"
   ]
  },
  {
   "cell_type": "code",
   "execution_count": null,
   "metadata": {},
   "outputs": [],
   "source": [
    "# mixing all together \n",
    "x = cs1 + cs2 + cdn\n",
    "plt.plot(x, label='mix')\n",
    "plt.legend(loc='upper right')\n",
    "plt.show()"
   ]
  },
  {
   "cell_type": "markdown",
   "metadata": {},
   "source": [
    "## VAD for RTF computation"
   ]
  },
  {
   "cell_type": "code",
   "execution_count": null,
   "metadata": {},
   "outputs": [],
   "source": [
    "vad = {\n",
    "    'target' : (int(2.1*fs), int(3.1*fs)),\n",
    "    'interf' : (int(2.1*fs), int(3.1*fs)),\n",
    "    'noise'  : (int(0.5*fs), int(1.5*fs)),\n",
    "}\n",
    "\n",
    "x = cs1 + cs2 + cdn\n",
    "\n",
    "plt.plot(x, label='mix')\n",
    "plt.legend(loc='upper right')\n",
    "plt.show()"
   ]
  },
  {
   "cell_type": "markdown",
   "metadata": {},
   "source": [
    "# Beamforming"
   ]
  },
  {
   "cell_type": "code",
   "execution_count": null,
   "metadata": {},
   "outputs": [],
   "source": [
    "assert fs == 16000\n",
    "nfft = 1024\n",
    "hop = 512\n",
    "nrfft = nfft+1\n",
    "K = 7"
   ]
  },
  {
   "cell_type": "markdown",
   "metadata": {},
   "source": [
    "## RTF from data"
   ]
  },
  {
   "cell_type": "code",
   "execution_count": null,
   "metadata": {},
   "outputs": [],
   "source": [
    "RTF = np.zeros([nrfft, I], dtype=np.complex)\n",
    "RTF[:, r] = np.ones(nrfft)\n",
    "\n",
    "for src in ['target', 'interf']:\n",
    "    for i in range(1,I):\n",
    "        mr = x[vad[src][0]:vad[src][1], r]\n",
    "        mi = x[vad[src][0]:vad[src][1], i]\n",
    "        nd = x[vad['noise'][0]:vad['noise'][1], [r, i]]\n",
    "        RTF[:, i] = estimate_rtf(mi, mr, 'gevdRTF', 'full', Lh=None, n=nd, Fs=fs, nfft=nfft, hop=hop)\n",
    "        print(i)\n",
    "print('Done.')\n",
    "dRTF = RTF.copy()"
   ]
  },
  {
   "cell_type": "markdown",
   "metadata": {},
   "source": [
    "## RTF from TDOA"
   ]
  },
  {
   "cell_type": "markdown",
   "metadata": {},
   "source": [
    "### test cadzow rec"
   ]
  },
  {
   "cell_type": "code",
   "execution_count": null,
   "metadata": {},
   "outputs": [],
   "source": [
    "from dechorate.cadzow import amplitudes_from_locations\n",
    "\n",
    "def H(x):\n",
    "    return np.conj(x.T)\n",
    "\n",
    "# test\n",
    "tk = np.array([[1.4, 45.3, 87.5, 100.4, 184.6, 333.4]])/fs\n",
    "ak = np.array([[1,   0.63, 0.53, 0.453, 0.345, 0.123]])\n",
    "tau = 500/fs\n",
    "M = 512\n",
    "# observation\n",
    "MM = np.arange(-M, M+1)[:,None]\n",
    "v = np.exp(-1j*2*np.pi/tau*MM@tk)@ak.T\n",
    "\n",
    "plt.plot(MM[:,0], np.abs(v))\n",
    "plt.show()"
   ]
  },
  {
   "cell_type": "code",
   "execution_count": null,
   "metadata": {},
   "outputs": [],
   "source": [
    "U = np.exp(-1j*2*np.pi/tau*MM@tk)\n",
    "vobs= v.copy()\n",
    "akest = np.real(np.linalg.lstsq(U, vobs)[0].T)\n",
    "print(akest)"
   ]
  },
  {
   "cell_type": "code",
   "execution_count": null,
   "metadata": {},
   "outputs": [],
   "source": [
    "for j in range(J):\n",
    "    for i in range(I):\n",
    "        rir = np.abs(h_[:, i, j])\n",
    "        toa = toas_peak[]"
   ]
  },
  {
   "cell_type": "markdown",
   "metadata": {},
   "source": [
    "### RTF computation"
   ]
  },
  {
   "cell_type": "code",
   "execution_count": null,
   "metadata": {},
   "outputs": [],
   "source": [
    "RTF = np.zeros([nrfft, I], dtype=np.complex)\n",
    "RTF[:, r] = np.ones(nrfft)\n",
    "\n",
    "freqs = np.linspace(0,fs//2,nrfft)\n",
    "omegas = 2*np.pi*freqs\n",
    "print(freqs)\n",
    "print(omegas)\n",
    "\n",
    "def rake_filter(amp, toa):\n",
    "    assert len(amp) == len(toa) == 7\n",
    "    H = amp[:,None] * np.exp(1j*omegas[None, :] * toa[:, None])\n",
    "    \n",
    "rake_filter()"
   ]
  },
  {
   "cell_type": "code",
   "execution_count": null,
   "metadata": {},
   "outputs": [],
   "source": [
    "for src in ['target', 'interf']:\n",
    "    for i in range(1,I):\n",
    "            \n",
    "        print(i)\n",
    "print('Done.')\n",
    "tRTF = RTF"
   ]
  },
  {
   "cell_type": "code",
   "execution_count": null,
   "metadata": {},
   "outputs": [],
   "source": []
  }
 ],
 "metadata": {
  "kernelspec": {
   "display_name": "Python 3",
   "language": "python",
   "name": "python3"
  },
  "language_info": {
   "codemirror_mode": {
    "name": "ipython",
    "version": 3
   },
   "file_extension": ".py",
   "mimetype": "text/x-python",
   "name": "python",
   "nbconvert_exporter": "python",
   "pygments_lexer": "ipython3",
   "version": "3.6.10"
  },
  "toc": {
   "base_numbering": 1,
   "nav_menu": {},
   "number_sections": true,
   "sideBar": true,
   "skip_h1_title": false,
   "title_cell": "Table of Contents",
   "title_sidebar": "Contents",
   "toc_cell": false,
   "toc_position": {},
   "toc_section_display": true,
   "toc_window_display": true
  }
 },
 "nbformat": 4,
 "nbformat_minor": 4
}
