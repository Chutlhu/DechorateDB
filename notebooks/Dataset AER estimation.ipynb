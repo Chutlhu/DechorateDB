{
 "cells": [
  {
   "cell_type": "code",
   "execution_count": 1,
   "metadata": {},
   "outputs": [],
   "source": [
    "%load_ext autoreload\n",
    "%autoreload 2"
   ]
  },
  {
   "cell_type": "code",
   "execution_count": 2,
   "metadata": {},
   "outputs": [],
   "source": [
    "import numpy as np\n",
    "import scipy as sp\n",
    "import pandas as pd\n",
    "import matplotlib.pyplot as plt\n",
    "import seaborn as sns\n",
    "\n",
    "from tqdm.notebook import tqdm\n",
    "from time import sleep"
   ]
  },
  {
   "cell_type": "code",
   "execution_count": 3,
   "metadata": {},
   "outputs": [],
   "source": [
    "from dechorate import constants\n",
    "from dechorate.dataset import DechorateDataset, SyntheticDataset\n",
    "from dechorate.utils.file_utils import save_to_pickle, load_from_pickle, save_to_matlab\n",
    "from dechorate.utils.dsp_utils import normalize, envelope"
   ]
  },
  {
   "cell_type": "code",
   "execution_count": 4,
   "metadata": {},
   "outputs": [],
   "source": [
    "data_dir = '../data/'\n",
    "dataset_dir = data_dir + 'dECHORATE/'\n",
    "path_to_processed = data_dir + 'processed/'\n",
    "path_to_note_csv = dataset_dir + 'annotations/dECHORATE_database.csv'\n",
    "path_to_after_calibration = path_to_processed + \\\n",
    "    'post2_calibration/calib_output_mics_srcs_pos.pkl'\n",
    "\n",
    "note_dict = load_from_pickle(path_to_after_calibration)\n",
    "dset = DechorateDataset(path_to_processed, path_to_note_csv)\n",
    "sdset = SyntheticDataset()\n",
    "\n",
    "\n",
    "datasets = constants['datasets']\n",
    "c = constants['speed_of_sound']\n",
    "Fs = constants['Fs']\n",
    "recording_offset = constants['recording_offset']\n",
    "L = constants['rir_length']"
   ]
  },
  {
   "cell_type": "code",
   "execution_count": 5,
   "metadata": {},
   "outputs": [],
   "source": [
    "I = 30\n",
    "J = 9\n",
    "D = len(datasets)"
   ]
  },
  {
   "cell_type": "markdown",
   "metadata": {},
   "source": [
    "## Extraction of Real and Sythetic RIRs"
   ]
  },
  {
   "cell_type": "code",
   "execution_count": 6,
   "metadata": {},
   "outputs": [
    {
     "data": {
      "application/vnd.jupyter.widget-view+json": {
       "model_id": "fb11dcaab29c4c9f9f960cdb516e1aa7",
       "version_major": 2,
       "version_minor": 0
      },
      "text/plain": [
       "HBox(children=(FloatProgress(value=0.0, description='Loop datasets', max=10.0, style=ProgressStyle(description…"
      ]
     },
     "metadata": {},
     "output_type": "display_data"
    },
    {
     "data": {
      "application/vnd.jupyter.widget-view+json": {
       "model_id": "",
       "version_major": 2,
       "version_minor": 0
      },
      "text/plain": [
       "HBox(children=(FloatProgress(value=0.0, description='Lood mic', max=30.0, style=ProgressStyle(description_widt…"
      ]
     },
     "metadata": {},
     "output_type": "display_data"
    },
    {
     "data": {
      "application/vnd.jupyter.widget-view+json": {
       "model_id": "",
       "version_major": 2,
       "version_minor": 0
      },
      "text/plain": [
       "HBox(children=(FloatProgress(value=0.0, description='Lood mic', max=30.0, style=ProgressStyle(description_widt…"
      ]
     },
     "metadata": {},
     "output_type": "display_data"
    },
    {
     "data": {
      "application/vnd.jupyter.widget-view+json": {
       "model_id": "",
       "version_major": 2,
       "version_minor": 0
      },
      "text/plain": [
       "HBox(children=(FloatProgress(value=0.0, description='Lood mic', max=30.0, style=ProgressStyle(description_widt…"
      ]
     },
     "metadata": {},
     "output_type": "display_data"
    },
    {
     "data": {
      "application/vnd.jupyter.widget-view+json": {
       "model_id": "",
       "version_major": 2,
       "version_minor": 0
      },
      "text/plain": [
       "HBox(children=(FloatProgress(value=0.0, description='Lood mic', max=30.0, style=ProgressStyle(description_widt…"
      ]
     },
     "metadata": {},
     "output_type": "display_data"
    },
    {
     "data": {
      "application/vnd.jupyter.widget-view+json": {
       "model_id": "",
       "version_major": 2,
       "version_minor": 0
      },
      "text/plain": [
       "HBox(children=(FloatProgress(value=0.0, description='Lood mic', max=30.0, style=ProgressStyle(description_widt…"
      ]
     },
     "metadata": {},
     "output_type": "display_data"
    },
    {
     "data": {
      "application/vnd.jupyter.widget-view+json": {
       "model_id": "",
       "version_major": 2,
       "version_minor": 0
      },
      "text/plain": [
       "HBox(children=(FloatProgress(value=0.0, description='Lood mic', max=30.0, style=ProgressStyle(description_widt…"
      ]
     },
     "metadata": {},
     "output_type": "display_data"
    },
    {
     "data": {
      "application/vnd.jupyter.widget-view+json": {
       "model_id": "",
       "version_major": 2,
       "version_minor": 0
      },
      "text/plain": [
       "HBox(children=(FloatProgress(value=0.0, description='Lood mic', max=30.0, style=ProgressStyle(description_widt…"
      ]
     },
     "metadata": {},
     "output_type": "display_data"
    },
    {
     "data": {
      "application/vnd.jupyter.widget-view+json": {
       "model_id": "",
       "version_major": 2,
       "version_minor": 0
      },
      "text/plain": [
       "HBox(children=(FloatProgress(value=0.0, description='Lood mic', max=30.0, style=ProgressStyle(description_widt…"
      ]
     },
     "metadata": {},
     "output_type": "display_data"
    },
    {
     "data": {
      "application/vnd.jupyter.widget-view+json": {
       "model_id": "",
       "version_major": 2,
       "version_minor": 0
      },
      "text/plain": [
       "HBox(children=(FloatProgress(value=0.0, description='Lood mic', max=30.0, style=ProgressStyle(description_widt…"
      ]
     },
     "metadata": {},
     "output_type": "display_data"
    },
    {
     "data": {
      "application/vnd.jupyter.widget-view+json": {
       "model_id": "",
       "version_major": 2,
       "version_minor": 0
      },
      "text/plain": [
       "HBox(children=(FloatProgress(value=0.0, description='Lood mic', max=30.0, style=ProgressStyle(description_widt…"
      ]
     },
     "metadata": {},
     "output_type": "display_data"
    },
    {
     "name": "stdout",
     "output_type": "stream",
     "text": [
      "\n",
      "done with the extraction\n"
     ]
    }
   ],
   "source": [
    "rirs_real = np.zeros([L, I, J, D])\n",
    "rirs_synt = np.zeros([L, I, J, D])\n",
    "mics = np.zeros([3, I])\n",
    "srcs = np.zeros([3, J])\n",
    "\n",
    "\n",
    "for d in tqdm(range(D), desc='Loop datasets'):\n",
    "    for i in tqdm(range(I), desc='Lood mic', leave=False):\n",
    "        for j in range(J):\n",
    "\n",
    "            dataset_id = datasets[d]\n",
    "            \n",
    "            # get rir from the recondings\n",
    "            dset.set_dataset(dataset_id)\n",
    "            dset.set_entry(i, j)\n",
    "            mic, src = dset.get_mic_and_src_pos()\n",
    "            mics[:, i] = mic\n",
    "            srcs[:, j] = src\n",
    "            _, rrir = dset.get_rir()\n",
    "\n",
    "\n",
    "            # get synthetic rir\n",
    "            sdset = SyntheticDataset()\n",
    "            sdset.set_room_size(constants['room_size'])\n",
    "            sdset.set_dataset(dataset_id, absb=0.85, refl=0.15)\n",
    "            sdset.set_c(c)\n",
    "            sdset.set_k_order(17)\n",
    "            sdset.set_mic(mics[0, i], mics[1, i], mics[2, i])\n",
    "            sdset.set_src(srcs[0, j], srcs[1, j], srcs[2, j])\n",
    "            _, srir = sdset.get_rir()\n",
    "            Ls = len(srir)\n",
    "\n",
    "\n",
    "            # measure after calibration\n",
    "            rirs_real[:, i, j, d] = rrir[:L]\n",
    "            rirs_synt[:Ls, i, j, d] = srir[:Ls]\n",
    "\n",
    "print('done with the extraction')"
   ]
  },
  {
   "cell_type": "markdown",
   "metadata": {},
   "source": [
    "## Running Blaster\n",
    "well lets see"
   ]
  },
  {
   "cell_type": "code",
   "execution_count": null,
   "metadata": {},
   "outputs": [],
   "source": []
  }
 ],
 "metadata": {
  "kernelspec": {
   "display_name": "Python 3",
   "language": "python",
   "name": "python3"
  },
  "language_info": {
   "codemirror_mode": {
    "name": "ipython",
    "version": 3
   },
   "file_extension": ".py",
   "mimetype": "text/x-python",
   "name": "python",
   "nbconvert_exporter": "python",
   "pygments_lexer": "ipython3",
   "version": "3.6.10"
  }
 },
 "nbformat": 4,
 "nbformat_minor": 4
}
