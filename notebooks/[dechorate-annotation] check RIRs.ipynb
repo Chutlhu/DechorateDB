{
 "cells": [
  {
   "cell_type": "code",
   "execution_count": 1,
   "metadata": {},
   "outputs": [],
   "source": [
    "import os\n",
    "import numpy as np\n",
    "import pandas as pd\n",
    "import matplotlib.pyplot as plt\n",
    "\n",
    "from dechorate import constants"
   ]
  },
  {
   "cell_type": "markdown",
   "metadata": {},
   "source": [
    "# Load RIRs"
   ]
  },
  {
   "cell_type": "code",
   "execution_count": 2,
   "metadata": {},
   "outputs": [
    {
     "name": "stdout",
     "output_type": "stream",
     "text": [
      "RIRs matrix dimension\n",
      "(384000, 30, 7, 11)\n"
     ]
    }
   ],
   "source": [
    "path_to_rirs = os.path.join('..', 'data', 'final', 'rir_matrix.npy')\n",
    "rirs = np.load(path_to_rirs)\n",
    "\n",
    "print('RIRs matrix dimension')\n",
    "print(rirs.shape)"
   ]
  },
  {
   "cell_type": "code",
   "execution_count": 4,
   "metadata": {},
   "outputs": [
    {
     "name": "stdout",
     "output_type": "stream",
     "text": [
      "      Unnamed: 0 signal              wavefile               path_hdf5  mic_id  \\\n",
      "0              0    rir  2020-01-23__20-24-07         /000000/rir/1/1     1.0   \n",
      "1              1    rir  2020-01-23__20-24-07         /000000/rir/1/2     2.0   \n",
      "2              2    rir  2020-01-23__20-24-07         /000000/rir/1/3     3.0   \n",
      "3              3    rir  2020-01-23__20-24-07         /000000/rir/1/4     4.0   \n",
      "4              4    rir  2020-01-23__20-24-07         /000000/rir/1/5     5.0   \n",
      "...          ...    ...                   ...                     ...     ...   \n",
      "2382        2382    rir  2020-01-29__18-05-22        /020002/rir/7/27    27.0   \n",
      "2383        2383    rir  2020-01-29__18-05-22        /020002/rir/7/28    28.0   \n",
      "2384        2384    rir  2020-01-29__18-05-22        /020002/rir/7/29    29.0   \n",
      "2385        2385    rir  2020-01-29__18-05-22        /020002/rir/7/30    30.0   \n",
      "2386        2386    rir  2020-01-29__18-05-22  /020002/rir/7/loopback    31.0   \n",
      "\n",
      "      src_id  room_code   delay  artifact  \n",
      "0        1.0          0  4444.0       0.0  \n",
      "1        1.0          0  4444.0       0.0  \n",
      "2        1.0          0  4444.0       0.0  \n",
      "3        1.0          0  4444.0       0.0  \n",
      "4        1.0          0  4444.0       0.0  \n",
      "...      ...        ...     ...       ...  \n",
      "2382     7.0      20002  4444.0       0.0  \n",
      "2383     7.0      20002  4444.0       0.0  \n",
      "2384     7.0      20002  4444.0       0.0  \n",
      "2385     7.0      20002  4444.0       0.0  \n",
      "2386     7.0      20002  4444.0       0.0  \n",
      "\n",
      "[2387 rows x 9 columns]\n"
     ]
    }
   ],
   "source": [
    "path_to_delay_note = os.path.join('..', 'data', 'final', 'database_delay.csv')\n",
    "delay_df = pd.read_csv(path_to_delay_note)\n",
    "print(delay_df)"
   ]
  },
  {
   "cell_type": "markdown",
   "metadata": {},
   "source": [
    "# Visualize RIRs"
   ]
  },
  {
   "cell_type": "code",
   "execution_count": 3,
   "metadata": {},
   "outputs": [],
   "source": [
    "L, I, J, D = rirs.shape\n",
    "datasets = constants['datasets']"
   ]
  },
  {
   "cell_type": "code",
   "execution_count": 4,
   "metadata": {
    "scrolled": false
   },
   "outputs": [
    {
     "ename": "NameError",
     "evalue": "name 'delay_df' is not defined",
     "output_type": "error",
     "traceback": [
      "\u001b[0;31m---------------------------------------------------------------------------\u001b[0m",
      "\u001b[0;31mNameError\u001b[0m                                 Traceback (most recent call last)",
      "\u001b[0;32m<ipython-input-4-65b6290d2618>\u001b[0m in \u001b[0;36m<module>\u001b[0;34m\u001b[0m\n\u001b[1;32m      3\u001b[0m \u001b[0;34m\u001b[0m\u001b[0m\n\u001b[1;32m      4\u001b[0m \u001b[0;32mfor\u001b[0m \u001b[0mi\u001b[0m \u001b[0;32min\u001b[0m \u001b[0mrange\u001b[0m\u001b[0;34m(\u001b[0m\u001b[0mI\u001b[0m\u001b[0;34m)\u001b[0m\u001b[0;34m:\u001b[0m\u001b[0;34m\u001b[0m\u001b[0;34m\u001b[0m\u001b[0m\n\u001b[0;32m----> 5\u001b[0;31m     delays = delay_df.loc[\n\u001b[0m\u001b[1;32m      6\u001b[0m         \u001b[0;34m(\u001b[0m\u001b[0mdelay_df\u001b[0m\u001b[0;34m[\u001b[0m\u001b[0;34m'mic_id'\u001b[0m\u001b[0;34m]\u001b[0m \u001b[0;34m==\u001b[0m \u001b[0mi\u001b[0m\u001b[0;34m+\u001b[0m\u001b[0;36m1\u001b[0m\u001b[0;34m)\u001b[0m \u001b[0;34m&\u001b[0m\u001b[0;34m\u001b[0m\u001b[0;34m\u001b[0m\u001b[0m\n\u001b[1;32m      7\u001b[0m         \u001b[0;34m(\u001b[0m\u001b[0mdelay_df\u001b[0m\u001b[0;34m[\u001b[0m\u001b[0;34m'src_id'\u001b[0m\u001b[0;34m]\u001b[0m \u001b[0;34m==\u001b[0m \u001b[0mj\u001b[0m\u001b[0;34m+\u001b[0m\u001b[0;36m1\u001b[0m\u001b[0;34m)\u001b[0m\u001b[0;34m\u001b[0m\u001b[0;34m\u001b[0m\u001b[0m\n",
      "\u001b[0;31mNameError\u001b[0m: name 'delay_df' is not defined"
     ]
    }
   ],
   "source": [
    "j = 0\n",
    "max_len = 8000\n",
    "\n",
    "for i in range(I):\n",
    "    delays = delay_df.loc[\n",
    "        (delay_df['mic_id'] == i+1) & \n",
    "        (delay_df['src_id'] == j+1)\n",
    "        ]['delay'].values\n",
    "    delay = int(np.median(delays))\n",
    "    print(i, j, d, delay)\n",
    "    curr_rirs = rirs[delay:max_len, i, j, :]\n",
    "    plt.plot(np.abs(curr_rirs))\n",
    "    plt.show()"
   ]
  },
  {
   "cell_type": "code",
   "execution_count": null,
   "metadata": {},
   "outputs": [],
   "source": [
    "plt.imshow(np.abs(curr_rirs).T, aspect='auto')"
   ]
  },
  {
   "cell_type": "code",
   "execution_count": null,
   "metadata": {},
   "outputs": [],
   "source": []
  },
  {
   "cell_type": "code",
   "execution_count": 25,
   "metadata": {},
   "outputs": [
    {
     "data": {
      "image/png": "[encoded data removed]",
      "text/plain": [
       "<Figure size 720x360 with 1 Axes>"
      ]
     },
     "metadata": {
      "needs_background": "light"
     },
     "output_type": "display_data"
    }
   ],
   "source": [
    "h = rirs[:,0,0,5]\n",
    "t = np.arange(len(h))/48000\n",
    "plt.figure(figsize=(10,5))\n",
    "plt.plot(t,np.abs(h))\n",
    "plt.xlim([0.09, 0.40])\n",
    "plt.savefig('rir.pdf')\n",
    "plt.show()"
   ]
  },
  {
   "cell_type": "code",
   "execution_count": null,
   "metadata": {},
   "outputs": [],
   "source": []
  }
 ],
 "metadata": {
  "kernelspec": {
   "display_name": "Python 3",
   "language": "python",
   "name": "python3"
  },
  "language_info": {
   "codemirror_mode": {
    "name": "ipython",
    "version": 3
   },
   "file_extension": ".py",
   "mimetype": "text/x-python",
   "name": "python",
   "nbconvert_exporter": "python",
   "pygments_lexer": "ipython3",
   "version": "3.6.10"
  },
  "toc": {
   "base_numbering": 1,
   "nav_menu": {},
   "number_sections": true,
   "sideBar": true,
   "skip_h1_title": false,
   "title_cell": "Table of Contents",
   "title_sidebar": "Contents",
   "toc_cell": false,
   "toc_position": {},
   "toc_section_display": true,
   "toc_window_display": true
  }
 },
 "nbformat": 4,
 "nbformat_minor": 4
}
