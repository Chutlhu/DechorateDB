{
 "cells": [
  {
   "cell_type": "code",
   "execution_count": 1,
   "metadata": {},
   "outputs": [],
   "source": [
    "%load_ext autoreload\n",
    "%autoreload 2"
   ]
  },
  {
   "cell_type": "code",
   "execution_count": 2,
   "metadata": {},
   "outputs": [
    {
     "name": "stderr",
     "output_type": "stream",
     "text": [
      "/home/ddicarlo/Documents/Code/InProgress/2019@Barilan_dataset_dechorate/venv/lib/python3.6/site-packages/librosa/util/decorators.py:9: NumbaDeprecationWarning: An import was requested from a module that has moved location.\n",
      "Import of 'jit' requested from: 'numba.decorators', please update to use 'numba.core.decorators' or pin to Numba version 0.48.0. This alias will not be present in Numba version 0.50.0.\n",
      "  from numba.decorators import jit as optional_jit\n"
     ]
    }
   ],
   "source": [
    "import numpy as np\n",
    "import matplotlib.pyplot as plt\n",
    "import soundfile as sf\n",
    "\n",
    "from dechorate import constants\n",
    "from dechorate.dataset import DechorateDataset, SyntheticDataset\n",
    "from dechorate.utils.file_utils import save_to_pickle, load_from_pickle, save_to_matlab\n",
    "from dechorate.utils.dsp_utils import normalize, resample, envelope\n",
    "\n",
    "from risotto.rtf import estimate_rtf\n",
    "from risotto.utils.dsp_utils import stft, istft\n",
    "\n",
    "from brioche.beamformer import DS, MVDR, LCMV, GSC\n",
    "from brioche.utils.dsp_utils import diffuse_noise\n",
    "\n",
    "# the case of absolute metrics\n",
    "import speechmetrics"
   ]
  },
  {
   "cell_type": "code",
   "execution_count": 3,
   "metadata": {},
   "outputs": [],
   "source": [
    "from IPython.display import Audio"
   ]
  },
  {
   "cell_type": "code",
   "execution_count": 4,
   "metadata": {},
   "outputs": [],
   "source": [
    "def plt_time_signal(signal, samplig_freq, **kvargs):\n",
    "    return plt.plot(np.arange(len(signal))/samplig_freq, signal, **kvargs)"
   ]
  },
  {
   "cell_type": "code",
   "execution_count": 5,
   "metadata": {},
   "outputs": [],
   "source": [
    "curr_dir = '../recipes/echo_aware_processing/'\n",
    "data_filename = curr_dir + 'data_notebook.pkl'"
   ]
  },
  {
   "cell_type": "markdown",
   "metadata": {},
   "source": [
    "# Get the data: RIRs and Annotation\n",
    "\n",
    "Surf the dEchorate and load the RIRs and the correspondent annotation"
   ]
  },
  {
   "cell_type": "code",
   "execution_count": 6,
   "metadata": {},
   "outputs": [
    {
     "data": {
      "text/plain": [
       "dict_keys(['mics', 'srcs', 'toa_pck', 'toa_sym', 'rirs'])"
      ]
     },
     "execution_count": 6,
     "metadata": {},
     "output_type": "execute_result"
    }
   ],
   "source": [
    "dataset_dir = '../data/dECHORATE/'\n",
    "path_to_processed = '../data/processed/'\n",
    "path_to_note_csv = dataset_dir + 'annotations/dECHORATE_database.csv'\n",
    "path_to_after_calibration = path_to_processed + 'post2_calibration/calib_output_mics_srcs_pos.pkl'\n",
    "\n",
    "# Some constant of the dataset\n",
    "L = constants['rir_length']\n",
    "Fs = constants['Fs']\n",
    "c = constants['speed_of_sound']\n",
    "L = constants['rir_length']\n",
    "datasets_name = constants['datasets'][:6]\n",
    "D = len(datasets_name)\n",
    "\n",
    "# Annotation, RIRs from measurements, 'equivalent' synthetic RIRs\n",
    "note_dict = load_from_pickle(path_to_after_calibration)\n",
    "rdset = DechorateDataset(path_to_processed, path_to_note_csv)\n",
    "sdset = SyntheticDataset()\n",
    "note_dict.keys()"
   ]
  },
  {
   "cell_type": "markdown",
   "metadata": {},
   "source": [
    "## Simulation parameters"
   ]
  },
  {
   "cell_type": "code",
   "execution_count": 7,
   "metadata": {},
   "outputs": [
    {
     "name": "stdout",
     "output_type": "stream",
     "text": [
      "[25, 26, 27, 28, 29]\n",
      "29\n"
     ]
    }
   ],
   "source": [
    "# which dataset?\n",
    "d = 3\n",
    "\n",
    "# which array?\n",
    "arr_idx = 5\n",
    "\n",
    "mics_idxs = [(5*arr_idx + i) for i in range(5)]\n",
    "print(mics_idxs)\n",
    "I = len(mics_idxs)\n",
    "# which one is the reference mic?\n",
    "ref_mic = 4\n",
    "r = ref_mic\n",
    "print(mics_idxs[ref_mic])\n",
    "\n",
    "# which source?\n",
    "srcs_idxs = [0, 1]\n",
    "J = len(srcs_idxs)\n",
    "# which src is the one to enhance?\n",
    "t = 0 # the target\n",
    "q = 1 # the interf\n",
    "\n",
    "# how many echoes to rake?\n",
    "K = 7 # all the first 7\n",
    "# in which order?\n",
    "ordering = 'reflection' # earliest, strongest, order"
   ]
  },
  {
   "cell_type": "code",
   "execution_count": 8,
   "metadata": {},
   "outputs": [
    {
     "name": "stdout",
     "output_type": "stream",
     "text": [
      "011100\n",
      "done with the extraction\n",
      "Saved.\n"
     ]
    }
   ],
   "source": [
    "dset = datasets_name[d]\n",
    "print(dset)\n",
    "\n",
    "rirs_real = np.zeros([L, I, J])\n",
    "rirs_synt = np.zeros([L, I, J])\n",
    "mics = np.zeros([3, I])\n",
    "srcs = np.zeros([3, J])\n",
    "toas = np.zeros([K, I, J])\n",
    "toas_synt = np.zeros([K, I, J])\n",
    "toas_peak = np.zeros([K, I, J])\n",
    "toas_cmds = np.zeros([K, I, J])\n",
    "amps_cmds = np.zeros([K, I, J])\n",
    "\n",
    "for i, m in enumerate(mics_idxs):\n",
    "    for j, s in enumerate(srcs_idxs):\n",
    "\n",
    "        # get rir from the recondings\n",
    "        rdset.set_dataset(dset)\n",
    "        rdset.set_entry(m, s)\n",
    "        mic, src = rdset.get_mic_and_src_pos()\n",
    "        _, rrir = rdset.get_rir()\n",
    "\n",
    "        # measure after calibration\n",
    "        mics[:, i] = note_dict['mics'][:, m]\n",
    "        srcs[:, j] = note_dict['srcs'][:, s]\n",
    "\n",
    "        # get synthetic rir\n",
    "        sdset = SyntheticDataset()\n",
    "        sdset.set_room_size(constants['room_size'])\n",
    "        sdset.set_dataset(dset, absb=0.90, refl=0.2)\n",
    "        sdset.set_c(c)\n",
    "        sdset.set_fs(Fs)\n",
    "        sdset.set_k_order(3)\n",
    "        sdset.set_k_reflc(1000)\n",
    "        sdset.set_mic(mics[0, i], mics[1, i], mics[2, i])\n",
    "        sdset.set_src(srcs[0, j], srcs[1, j], srcs[2, j])\n",
    "        tk, ak = sdset.get_note(ak_normalize=False, tk_order=ordering)\n",
    "        \n",
    "        _, srir = sdset.get_rir(normalize=False)\n",
    "        \n",
    "        ak = ak / (4 * np.pi)\n",
    "        srir = srir / (4 * np.pi)\n",
    "\n",
    "            \n",
    "        Ls = min(len(srir), L)\n",
    "        Lr = min(len(rrir), L)\n",
    "\n",
    "        # measure after calibration\n",
    "        rirs_real[:Lr, i, j] = rrir[:Lr]\n",
    "        rirs_synt[:Ls, i, j] = srir[:Ls]\n",
    "\n",
    "        toas_peak[:K, i, j] = note_dict['toa_pck'][:K, m, s]\n",
    "        toas_cmds[:K, i, j] = tk[:K]\n",
    "        amps_cmds[:K, i, j] = ak[:K]\n",
    "\n",
    "print('done with the extraction')\n",
    "rirs_real = np.squeeze(rirs_real)\n",
    "rirs_synt = np.squeeze(rirs_synt)\n",
    "\n",
    "data = {\n",
    "    'rirs_real' : rirs_real,\n",
    "    'rirs_synt' : rirs_synt,\n",
    "    'mics' : mics,\n",
    "    'srcs' : srcs,\n",
    "    'toas_synt' : toas_cmds,\n",
    "    'amps_synt' : amps_cmds,\n",
    "    'toas_peak' : toas_peak,\n",
    "    'amps_peak' : None,\n",
    "    'Fs' : Fs,\n",
    "}\n",
    "\n",
    "\n",
    "save_to_pickle(data_filename, data)\n",
    "print('Saved.')"
   ]
  },
  {
   "cell_type": "markdown",
   "metadata": {},
   "source": [
    "### Plot audio scene"
   ]
  },
  {
   "cell_type": "code",
   "execution_count": 9,
   "metadata": {},
   "outputs": [
    {
     "data": {
      "text/plain": [
       "array([[3.08212703, 3.04939035, 3.00846949, 2.95527238, 2.87343067],\n",
       "       [3.42108318, 3.44406817, 3.4727994 , 3.51015   , 3.56761246],\n",
       "       [1.49048013, 1.49048013, 1.49048013, 1.49048013, 1.49048013]])"
      ]
     },
     "execution_count": 9,
     "metadata": {},
     "output_type": "execute_result"
    }
   ],
   "source": [
    "mic_pos = mics\n",
    "mic_pos"
   ]
  },
  {
   "cell_type": "code",
   "execution_count": 10,
   "metadata": {},
   "outputs": [
    {
     "data": {
      "text/plain": [
       "array([2.99373799, 3.48314264, 1.49048013])"
      ]
     },
     "execution_count": 10,
     "metadata": {},
     "output_type": "execute_result"
    }
   ],
   "source": [
    "arr_pos = np.mean(mics, 1)\n",
    "arr_pos"
   ]
  },
  {
   "cell_type": "code",
   "execution_count": 11,
   "metadata": {},
   "outputs": [
    {
     "data": {
      "text/plain": [
       "array([[1.89407487],\n",
       "       [4.52190448],\n",
       "       [1.4481839 ]])"
      ]
     },
     "execution_count": 11,
     "metadata": {},
     "output_type": "execute_result"
    }
   ],
   "source": [
    "tgt_pos = srcs[:, 0:1]\n",
    "tgt_pos"
   ]
  },
  {
   "cell_type": "code",
   "execution_count": 12,
   "metadata": {},
   "outputs": [
    {
     "data": {
      "text/plain": [
       "array([[1.6330509 ],\n",
       "       [0.8420041 ],\n",
       "       [1.02493109]])"
      ]
     },
     "execution_count": 12,
     "metadata": {},
     "output_type": "execute_result"
    }
   ],
   "source": [
    "itf_pos = srcs[:, 1:2]\n",
    "itf_pos"
   ]
  },
  {
   "cell_type": "code",
   "execution_count": 13,
   "metadata": {},
   "outputs": [
    {
     "data": {
      "image/png": "[encoded data removed]",
      "text/plain": [
       "<Figure size 432x288 with 1 Axes>"
      ]
     },
     "metadata": {
      "needs_background": "light"
     },
     "output_type": "display_data"
    }
   ],
   "source": [
    "plt.scatter(mic_pos[0,:], mic_pos[1,:], label='mics')\n",
    "plt.scatter(tgt_pos[0,:], tgt_pos[1,:], label='target', marker='*')\n",
    "plt.scatter(itf_pos[0,:], itf_pos[1,:], label='interferer')\n",
    "plt.annotate('',\n",
    "             (arr_pos[0], arr_pos[1]), \n",
    "             (tgt_pos[0], tgt_pos[1]),\n",
    "             arrowprops = {'arrowstyle' : '<-', \n",
    "                           'connectionstyle':'arc3',\n",
    "                           'color': 'C1'})\n",
    "plt.annotate('', \n",
    "             (arr_pos[0], arr_pos[1]), \n",
    "             (itf_pos[0], itf_pos[1]),\n",
    "             arrowprops = {'arrowstyle' : '<-', \n",
    "                           'connectionstyle':'arc3',\n",
    "                           'color': 'C2'})\n",
    "plt.scatter(mic_pos[0,r], mic_pos[1,r], marker='x', label='ref mic')\n",
    "plt.xlim([0, 5])\n",
    "plt.ylim([0, 5])\n",
    "plt.legend()\n",
    "plt.show()"
   ]
  },
  {
   "cell_type": "code",
   "execution_count": 14,
   "metadata": {},
   "outputs": [
    {
     "data": {
      "image/png": "[encoded data removed]",
      "text/plain": [
       "<Figure size 432x288 with 1 Axes>"
      ]
     },
     "metadata": {
      "needs_background": "light"
     },
     "output_type": "display_data"
    }
   ],
   "source": [
    "# Plot on sample\n",
    "i, j = (4, 1)\n",
    "\n",
    "a = np.max(np.abs(rirs_real[:, i, j]))\n",
    "t1  = np.argmax(rirs_synt[:, i, j])/Fs\n",
    "toa = toas_cmds[:, i, j]\n",
    "amp = amps_cmds[:, i, j]\n",
    "\n",
    "L = len(rirs_real[:, i, j])\n",
    "time = np.arange(L)/Fs\n",
    "\n",
    "plt_time_signal(rirs_real[:, i, j], Fs)\n",
    "plt_time_signal(rirs_synt[:, i, j], Fs)\n",
    "plt.scatter(toa, amp)\n",
    "plt.xlim(0.006, 0.03)\n",
    "plt.show()"
   ]
  },
  {
   "cell_type": "markdown",
   "metadata": {},
   "source": [
    "## Restore amplitudes with Condat's formula"
   ]
  },
  {
   "cell_type": "code",
   "execution_count": 15,
   "metadata": {
    "scrolled": false
   },
   "outputs": [],
   "source": [
    "# restore echoes' amplitudes from the echoes' location\n",
    "amps_condat = np.zeros_like(toas_cmds)\n",
    "for j in range(J):\n",
    "    for i in range(I):\n",
    "            \n",
    "        tk = toas_cmds[:, i, j]\n",
    "        L = int(np.max(toas_cmds[:, i, j])*Fs)+500\n",
    "        max_tau = L/Fs\n",
    "\n",
    "        rir = rirs_real[:L, i, j]\n",
    "        v = np.fft.fft(rir)\n",
    "\n",
    "        M = (len(v)-1)/2\n",
    "        MM = np.arange(-M,M+1)\n",
    "\n",
    "        assert -MM[0] == MM[-1]\n",
    "        assert len(MM) == len(v)\n",
    "\n",
    "        U = np.exp(-1j*2*np.pi*MM[:,None]@tk[None,:]/max_tau)\n",
    "        ak = np.abs(np.linalg.lstsq(U, v, rcond=None)[0])\n",
    "\n",
    "        amps_condat[:, i, j] = ak\n",
    "            \n",
    "#             plt.plot(np.arange(L)/Fs, rir)\n",
    "#             plt.scatter(tk, ak, c='C1', marker='x')\n",
    "#             plt.show()\n",
    "\n",
    "data['amps_peak'] = amps_condat\n",
    "# scale synthetic echoes' amplitudes according to the measured rirs"
   ]
  },
  {
   "cell_type": "code",
   "execution_count": 16,
   "metadata": {},
   "outputs": [],
   "source": [
    "# restore amps based on direct path eight\n",
    "amps = np.zeros_like(toas_synt)\n",
    "for j in range(J):\n",
    "    for i in range(I):\n",
    "        t = int(toas_peak[0, i, j]*Fs)\n",
    "        a = np.max(np.abs(rirs_real[t-40:t+40, i, j]))\n",
    "        amps[:, i, j] = a * (amps_cmds[:, i, j] / np.max(np.abs(amps_cmds[:, i, j])))\n",
    "\n",
    "data['amps_synt'] = amps"
   ]
  },
  {
   "cell_type": "code",
   "execution_count": 17,
   "metadata": {
    "scrolled": false
   },
   "outputs": [
    {
     "name": "stdout",
     "output_type": "stream",
     "text": [
      "0 0\n",
      "1 0\n",
      "2 0\n",
      "3 0\n",
      "4 0\n",
      "0 1\n",
      "1 1\n",
      "2 1\n",
      "3 1\n",
      "4 1\n"
     ]
    }
   ],
   "source": [
    "# restore amps based on direct path eight\n",
    "amps_rirs = np.zeros_like(toas_synt)\n",
    "for j in range(J):\n",
    "    for i in range(I):\n",
    "        print(i, j)\n",
    "        for k in range(K):\n",
    "            t = int(toas_peak[k, i, j]*Fs)\n",
    "            a = np.max(np.abs(rirs_real[t-5:t+5, i, j]))\n",
    "            amps_rirs[k, i, j] = a\n",
    "            \n",
    "#         plt.scatter(toas_peak[:, i, j]*Fs, amps_rirs[:, i, j])\n",
    "#         plt.plot(np.abs(rirs_real[:, i, j]))\n",
    "#         plt.xlim([250, 1000])\n",
    "#         plt.show()\n",
    "        \n",
    "data['amps_peak'] = amps_rirs"
   ]
  },
  {
   "cell_type": "markdown",
   "metadata": {},
   "source": [
    "# Load the Real Data\n",
    "load samples from the WSJ dataset and convolve in with the rirs"
   ]
  },
  {
   "cell_type": "code",
   "execution_count": 18,
   "metadata": {},
   "outputs": [],
   "source": [
    "data_dir = curr_dir + 'TIMIT_long_nili/'\n",
    "s1m = data_dir + 'DR5_MHMG0_SX195_SX285_SX375_7s.wav'\n",
    "s2m = data_dir + 'DR7_MGAR0_SX312_SX402_7s.wav'\n",
    "s1f = data_dir + 'DR1_FTBR0_SX201_SI921_7s.wav'\n",
    "s2f = data_dir + 'DR4_FKLC0_SI985_SI2245_7s.wav'\n",
    "\n",
    "files = [s1m, s2m, s1f, s2f]\n",
    "N = len(files)"
   ]
  },
  {
   "cell_type": "code",
   "execution_count": 19,
   "metadata": {},
   "outputs": [
    {
     "name": "stdout",
     "output_type": "stream",
     "text": [
      "done.\n",
      "Audio rate is 16000\n"
     ]
    }
   ],
   "source": [
    "wavs = []\n",
    "for file in files:\n",
    "    wav, fs = sf.read(file)\n",
    "    assert len(wav.shape) == 1\n",
    "    wavs.append(wav[:7*fs])\n",
    "print('done.')\n",
    "print('Audio rate is', fs)"
   ]
  },
  {
   "cell_type": "markdown",
   "metadata": {},
   "source": [
    "# Make Audio Scene"
   ]
  },
  {
   "cell_type": "code",
   "execution_count": 20,
   "metadata": {},
   "outputs": [
    {
     "name": "stdout",
     "output_type": "stream",
     "text": [
      "4\n",
      "0\n"
     ]
    },
    {
     "data": {
      "image/png": "[encoded data removed]",
      "text/plain": [
       "<Figure size 1152x288 with 2 Axes>"
      ]
     },
     "metadata": {
      "needs_background": "light"
     },
     "output_type": "display_data"
    }
   ],
   "source": [
    "# which rirs?\n",
    "h_ = data['rirs_real'] # real rirs\n",
    "\n",
    "# which toas?\n",
    "toas = toas_peak\n",
    "# which amps?\n",
    "amps = data['amps_peak']\n",
    "\n",
    "r = ref_mic # reference mic\n",
    "\n",
    "inr = 15 # dB\n",
    "snr = 15 # dB\n",
    "sir = snr - inr # dB\n",
    "\n",
    "print(r)\n",
    "print(sir)\n",
    "\n",
    "i = 0\n",
    "\n",
    "plt.figure(figsize=(16,4))\n",
    "plt.subplot(121)\n",
    "plt.title('Target')\n",
    "plt.plot(np.abs(h_[:1500, r, 0]))\n",
    "plt.scatter(toas[:, r, 0]*Fs, amps[:, r, 0])\n",
    "plt.plot(np.abs(h_[:1500, i, 0]))\n",
    "plt.scatter(toas[:, i, 0]*Fs, amps[:, i, 0])\n",
    "\n",
    "plt.subplot(122)\n",
    "plt.title('Interf')\n",
    "plt.plot(np.abs(h_[:1500, r, 1]))\n",
    "plt.scatter(toas[:, r, 1]*Fs, amps[:, r, 1])\n",
    "plt.plot(np.abs(h_[:1500, i, 1]))\n",
    "plt.scatter(toas[:, i, 1]*Fs, amps[:, i, 1])\n",
    "plt.show()\n"
   ]
  },
  {
   "cell_type": "markdown",
   "metadata": {},
   "source": [
    "# Make Mixtures"
   ]
  },
  {
   "cell_type": "code",
   "execution_count": 21,
   "metadata": {},
   "outputs": [
    {
     "name": "stderr",
     "output_type": "stream",
     "text": [
      "/home/ddicarlo/Documents/Code/InProgress/2019@Barilan_dataset_dechorate/venv/lib/python3.6/site-packages/IPython/core/pylabtools.py:132: UserWarning: Creating legend with loc=\"best\" can be slow with large amounts of data.\n",
      "  fig.canvas.print_figure(bytes_io, **kw)\n"
     ]
    },
    {
     "data": {
      "image/png": "[encoded data removed]",
      "text/plain": [
       "<Figure size 432x288 with 1 Axes>"
      ]
     },
     "metadata": {
      "needs_background": "light"
     },
     "output_type": "display_data"
    }
   ],
   "source": [
    "s1 = wavs[0]\n",
    "s2 = wavs[2]\n",
    "\n",
    "# center and scale for unit variance\n",
    "ss1 = (s1-np.mean(s1))/np.std(s1)\n",
    "ss2 = (s2-np.mean(s2))/np.std(s2)\n",
    "assert len(ss1) == len(ss2)\n",
    "\n",
    "plt.plot(ss1, label='target')\n",
    "plt.plot(ss2, label='interf')\n",
    "plt.legend()\n",
    "plt.show()"
   ]
  },
  {
   "cell_type": "code",
   "execution_count": null,
   "metadata": {},
   "outputs": [
    {
     "name": "stdout",
     "output_type": "stream",
     "text": [
      "16000 --> 48000\n"
     ]
    }
   ],
   "source": [
    "# Upsampling and stacking\n",
    "print(fs, '-->', Fs)\n",
    "s_ = np.concatenate([resample(ss1, fs, Fs)[:, None], \n",
    "                     resample(ss2, fs, Fs)[:, None]], axis=1)\n",
    "print(s_.shape)\n",
    "\n",
    "Lc = 10*fs\n",
    "c_ = np.zeros([Lc, I, J])\n",
    "\n",
    "# Convolution, downsampling and stacking\n",
    "print(Fs, '-->', fs)\n",
    "for i in range(I):\n",
    "    for j in range(J):\n",
    "        cs = np.convolve(h_[:, i, j], s_[:, j], 'full')\n",
    "        cs = resample(cs, Fs, fs)\n",
    "        L = len(cs)\n",
    "        print(i, j, L)\n",
    "        c_[:L, i, j] = cs\n",
    "        \n",
    "print('Done.')"
   ]
  },
  {
   "cell_type": "code",
   "execution_count": null,
   "metadata": {},
   "outputs": [],
   "source": [
    "plt.plot(np.arange(len(s_[:, 0]))/Fs, s_[:, 0], label='target')\n",
    "plt.plot(np.arange(len(c_[:, r, 0]))/fs, c_[:, r, 0], label='image', alpha=0.7)\n",
    "plt.xlim([6.8, 7.2])\n",
    "plt.ylim([-3, 3])\n",
    "plt.legend()\n",
    "plt.show()\n",
    "\n",
    "print('Source')\n",
    "display(Audio(s_[:, 0], rate=Fs))\n",
    "print('Image')\n",
    "display(Audio(c_[:, r, 0], rate=fs))"
   ]
  },
  {
   "cell_type": "code",
   "execution_count": null,
   "metadata": {},
   "outputs": [],
   "source": [
    "# Standardization wtr reference microphone\n",
    "sigma_target = np.std(c_[:7*fs, r, 0])\n",
    "sigma_interf = np.std(c_[:7*fs, r, 1])\n",
    "\n",
    "c_[:, :, 0] = c_[:, :, 0] / sigma_target\n",
    "c_[:, :, 1] = c_[:, :, 1] / sigma_interf\n",
    "\n",
    "# hereafter we assume that the two images have unit-variance at the reference microphone"
   ]
  },
  {
   "cell_type": "code",
   "execution_count": null,
   "metadata": {},
   "outputs": [],
   "source": [
    "plt_time_signal(c_[:, r, 0], fs, label='target')\n",
    "plt_time_signal(c_[:, r, 1], fs, label='interf')\n",
    "plt.legend()\n",
    "plt.show()"
   ]
  },
  {
   "cell_type": "code",
   "execution_count": null,
   "metadata": {},
   "outputs": [],
   "source": [
    "# lets add some silence and shift the source such that there is overlap\n",
    "cs1 = np.concatenate([np.zeros([2*fs, I]), c_[:, :, 0], np.zeros([4*fs, I]), np.zeros([2*fs, I])], axis=0)\n",
    "cs2 = np.concatenate([np.zeros([2*fs, I]), np.zeros([4*fs, I]), c_[:, :, 1], np.zeros([2*fs, I])], axis=0)\n",
    "# diffuse noise field simulation given the array geometry\n",
    "dn = diffuse_noise(mic_pos, cs1.shape[0], fs, c=343, N=32, mode='sphere').T\n",
    "assert dn.shape == cs1.shape\n",
    "# and unit-variance with respect to the ref mic\n",
    "dn = dn / np.std(dn[:, r])"
   ]
  },
  {
   "cell_type": "code",
   "execution_count": null,
   "metadata": {},
   "outputs": [],
   "source": [
    "plt.plot(cs1[:, r], label='target')\n",
    "plt.plot(cs2[:, r], label='interf')\n",
    "plt.plot(dn[:, r], label='mnoise')\n",
    "plt.legend(loc='upper right')\n",
    "plt.show()"
   ]
  },
  {
   "cell_type": "code",
   "execution_count": null,
   "metadata": {},
   "outputs": [],
   "source": [
    "def todB(x):\n",
    "    return 10*np.log10(x)"
   ]
  },
  {
   "cell_type": "code",
   "execution_count": null,
   "metadata": {},
   "outputs": [],
   "source": [
    "# # proof of the SIR/SNR/INR derivation\n",
    "# a = np.random.random(L)\n",
    "# b = np.random.random(L)\n",
    "# c = np.random.random(L)\n",
    "\n",
    "# snr = 40\n",
    "# inr = 2\n",
    "# sir = snr - inr\n",
    "\n",
    "# sigma_n = np.sqrt(10 ** (- snr / 10))\n",
    "# sigma_i = np.sqrt(10 ** (- sir / 10))\n",
    "\n",
    "# a = (a - np.mean(a))/np.std(a)\n",
    "# b = sigma_i*(b - np.mean(b))/np.std(b)\n",
    "# c = sigma_n*(c - np.mean(c))/np.std(c)\n",
    "\n",
    "# print('SNR', todB(np.var(a)/np.var(c)))\n",
    "# print('SIR', todB(np.var(a)/np.var(b)))\n",
    "# print('INR', todB(np.var(b)/np.var(c)))"
   ]
  },
  {
   "cell_type": "markdown",
   "metadata": {},
   "source": [
    "## Scale according to SNR and INR"
   ]
  },
  {
   "cell_type": "code",
   "execution_count": null,
   "metadata": {},
   "outputs": [],
   "source": [
    "sigma_n = np.sqrt(10 ** (- snr / 10))\n",
    "sigma_i = np.sqrt(10 ** (- sir / 10))\n",
    "\n",
    "cs1 = cs1\n",
    "cdn = sigma_n * dn\n",
    "cs2 = sigma_i * cs2"
   ]
  },
  {
   "cell_type": "code",
   "execution_count": null,
   "metadata": {},
   "outputs": [],
   "source": [
    "plt_time_signal(cs1[:, r], fs, label='target')\n",
    "plt_time_signal(cs2[:, r], fs, label='interf')\n",
    "plt_time_signal(cdn[:, r], fs, label='mnoise')\n",
    "plt.legend(loc='upper right')\n",
    "plt.show()"
   ]
  },
  {
   "cell_type": "markdown",
   "metadata": {},
   "source": [
    "## Mix all together"
   ]
  },
  {
   "cell_type": "code",
   "execution_count": null,
   "metadata": {},
   "outputs": [],
   "source": [
    "# mixing all together \n",
    "x = cs1 + cs2 + cdn\n",
    "plt.plot(x, label='mix')\n",
    "plt.legend(loc='upper right')\n",
    "plt.show()"
   ]
  },
  {
   "cell_type": "markdown",
   "metadata": {},
   "source": [
    "## VAD for RTF computation"
   ]
  },
  {
   "cell_type": "code",
   "execution_count": null,
   "metadata": {},
   "outputs": [],
   "source": [
    "vad = {\n",
    "    'target' : (int(2*fs), int(4.5*fs)),\n",
    "    'interf' : (int(10*fs), int(12.5*fs)),\n",
    "    'noise'  : (int(0.5*fs), int(1.5*fs)),\n",
    "}\n",
    "\n",
    "x = cs1 + cs2 + cdn\n",
    "\n",
    "plt.plot(x[:,r], label='mix')\n",
    "plt.fill_between(\n",
    "    np.arange(vad['target'][0], vad['target'][1]), -10, 10,\n",
    "    color='C12', alpha=0.5, label='VAD target')\n",
    "plt.fill_between(\n",
    "    np.arange(vad['interf'][0], vad['interf'][1]), -10, 10,\n",
    "    color='C13', alpha=0.5, label='VAD interf')\n",
    "plt.fill_between(\n",
    "    np.arange(vad['noise'][0], vad['noise'][1]), -10, 10,\n",
    "    color='C14', alpha=0.5, label='VAD noise')\n",
    "plt.legend(loc='upper right')\n",
    "plt.show()"
   ]
  },
  {
   "cell_type": "markdown",
   "metadata": {},
   "source": [
    "# Spatial Filtering\n",
    "## params"
   ]
  },
  {
   "cell_type": "code",
   "execution_count": null,
   "metadata": {},
   "outputs": [],
   "source": [
    "assert fs == 16000\n",
    "nfft = 1024\n",
    "hop = 512\n",
    "nrfft = nfft+1\n",
    "F = nrfft\n",
    "fstart = 100 # Hz\n",
    "fend = 6000  # Hz"
   ]
  },
  {
   "cell_type": "code",
   "execution_count": null,
   "metadata": {},
   "outputs": [],
   "source": [
    "print(r)"
   ]
  },
  {
   "cell_type": "markdown",
   "metadata": {},
   "source": [
    "## STFT"
   ]
  },
  {
   "cell_type": "code",
   "execution_count": null,
   "metadata": {
    "scrolled": true
   },
   "outputs": [],
   "source": [
    "# stft of the spatial images\n",
    "CS1 = stft(cs1.T, Fs=Fs, nfft=nfft, hop=hop)[-1]\n",
    "CS2 = stft(cs2.T, Fs=Fs, nfft=nfft, hop=hop)[-1]\n",
    "CDN = stft(cdn.T, Fs=Fs, nfft=nfft, hop=hop)[-1]\n",
    "X = stft(x.T, Fs=Fs, nfft=nfft, hop=hop)[-1]\n",
    "CS1 =  CS1.transpose([1, 2, 0])\n",
    "CS2 =  CS2.transpose([1, 2, 0])\n",
    "CDN =  CDN.transpose([1, 2, 0])\n",
    "X =  X.transpose([1, 2, 0])\n",
    "\n",
    "cs1in = istft(CS1[:,:,r], Fs=Fs, nfft=nfft, hop=hop)[-1].real\n",
    "cs2in = istft(CS2[:,:,r], Fs=Fs, nfft=nfft, hop=hop)[-1].real\n",
    "cdnin = istft(CDN[:,:,r], Fs=Fs, nfft=nfft, hop=hop)[-1].real\n",
    "\n",
    "\n",
    "assert np.allclose(X, CS1+CS2+CDN)"
   ]
  },
  {
   "cell_type": "code",
   "execution_count": null,
   "metadata": {},
   "outputs": [],
   "source": [
    "xin = istft(X[:,:,r], Fs=Fs, nfft=nfft, hop=hop)[-1].real\n",
    "Audio(xin, rate=fs)"
   ]
  },
  {
   "cell_type": "markdown",
   "metadata": {},
   "source": [
    "## RTF from data"
   ]
  },
  {
   "cell_type": "code",
   "execution_count": null,
   "metadata": {
    "scrolled": false
   },
   "outputs": [],
   "source": [
    "dRTF = np.zeros([nrfft, I, J], dtype=np.complex)\n",
    "\n",
    "for j, src in enumerate(['target', 'interf']):\n",
    "    for i in range(I):\n",
    "        if i == r:\n",
    "            dRTF[:, r, j] = np.ones(nrfft)\n",
    "        else:\n",
    "            print(vad[src][0], vad[src][1])\n",
    "            mi = x[vad[src][0]:vad[src][1], i]\n",
    "            mr = x[vad[src][0]:vad[src][1], r]\n",
    "#             plt_time_signal(mi, fs)\n",
    "#             plt_time_signal(mr, fs)\n",
    "#             plt.show()\n",
    "            nd = x[vad['noise'][0]:vad['noise'][1], [r, i]]\n",
    "            dRTF[:, i, j] = estimate_rtf(mi, mr, 'gevdRTF', 'full', Lh=None, n=nd, \n",
    "                                         Fs=fs, nfft=nfft, hop=hop)\n",
    "        print(i)\n",
    "print('Done.')"
   ]
  },
  {
   "cell_type": "markdown",
   "metadata": {},
   "source": [
    "## RTF from TDOA"
   ]
  },
  {
   "cell_type": "code",
   "execution_count": null,
   "metadata": {},
   "outputs": [],
   "source": [
    "freqs = np.linspace(0,fs//2,F)\n",
    "omegas = 2*np.pi*freqs\n",
    "\n",
    "def rake_filter(ak, tk):\n",
    "    assert len(ak) == len(tk)\n",
    "    assert len(ak.shape) == len(tk.shape) == 1\n",
    "    \n",
    "    H = np.exp(-1j*omegas[:,None] @ tk[None, :]) @ ak[:, None]\n",
    "    assert H.shape == (len(omegas), 1)\n",
    "    \n",
    "    return H.squeeze()"
   ]
  },
  {
   "cell_type": "code",
   "execution_count": null,
   "metadata": {
    "scrolled": false
   },
   "outputs": [],
   "source": [
    "eRTF = np.zeros([F, I, J], dtype=np.complex)\n",
    "\n",
    "for j in range(J):    \n",
    "    for i in range(I):\n",
    "        if i == r:\n",
    "            eRTF[:, r, j] = np.ones(nrfft)\n",
    "        else:        \n",
    "            assert len(amps[:, i, j]) == K\n",
    "            assert len(toas[:, i, j]) == K\n",
    "            \n",
    "            Hr = rake_filter(amps[:, r, j], toas[:, r, j])\n",
    "            Hi = rake_filter(amps[:, i, j], toas[:, i, j])\n",
    "            eRTF[:, i, j] = Hi / Hr\n",
    "        \n",
    "print('Done.')"
   ]
  },
  {
   "cell_type": "markdown",
   "metadata": {},
   "source": [
    "## Direct-path Steering Vector"
   ]
  },
  {
   "cell_type": "code",
   "execution_count": null,
   "metadata": {},
   "outputs": [],
   "source": [
    "dpTF = np.zeros([F, I, J], dtype=np.complex)\n",
    "\n",
    "for j in range(J):\n",
    "    for i in range(I):\n",
    "        \n",
    "        Hr = rake_filter(amps[:1, r, j], toas[:1, r, j])\n",
    "        \n",
    "        if i == r:\n",
    "            dpTF[:, r, j] = np.ones(nrfft)\n",
    "        else:\n",
    "            Hi = rake_filter(amps[:1, i, j], toas[:1, i, j])\n",
    "            dpTF[:, i, j] = Hi / Hr\n",
    "            \n",
    "print('Done.')"
   ]
  },
  {
   "cell_type": "markdown",
   "metadata": {},
   "source": [
    "### data-RTF vs echo-RTF vs dpTF"
   ]
  },
  {
   "cell_type": "code",
   "execution_count": null,
   "metadata": {},
   "outputs": [],
   "source": [
    "plt.figure(figsize=(16, 4))\n",
    "plt.plot(np.abs(eRTF[:, 1, 0]), label='echo')\n",
    "plt.plot(np.abs(dRTF[:, 1, 0]), label='gevd')\n",
    "plt.ylim([0, 5])\n",
    "plt.legend(loc='upper left')\n",
    "plt.show()\n",
    "\n",
    "plt.figure(figsize=(16, 4))\n",
    "plt.plot(np.abs(eRTF[:, 1, 1]), label='echo')\n",
    "plt.plot(np.abs(dRTF[:, 1, 1]), label='gevd')\n",
    "plt.ylim([0, 5])\n",
    "plt.legend(loc='upper left')\n",
    "plt.show()"
   ]
  },
  {
   "cell_type": "code",
   "execution_count": null,
   "metadata": {},
   "outputs": [],
   "source": [
    "for j in range(J):\n",
    "    for i in range(I):\n",
    "        print(np.abs(np.mean(eRTF[:, i, j] - dRTF[:, i, j])))"
   ]
  },
  {
   "cell_type": "markdown",
   "metadata": {},
   "source": [
    "## Noise Covariance"
   ]
  },
  {
   "cell_type": "code",
   "execution_count": null,
   "metadata": {},
   "outputs": [],
   "source": [
    "Sigma_n = np.zeros([F, I, I], dtype=np.complex64)\n",
    "for f in range(F):\n",
    "    Sigma_n[f, :, :] = np.cov(CDN[f, :, :].T)\n",
    "    \n",
    "# print(np.mean(np.abs(Sigma_n), axis=0))\n",
    "plt.imshow(np.mean(np.abs(Sigma_n), axis=0))\n",
    "plt.show()"
   ]
  },
  {
   "cell_type": "markdown",
   "metadata": {},
   "source": [
    "# Separation"
   ]
  },
  {
   "cell_type": "markdown",
   "metadata": {},
   "source": [
    "## Delay and Sum"
   ]
  },
  {
   "cell_type": "code",
   "execution_count": null,
   "metadata": {},
   "outputs": [],
   "source": [
    "X = CS1+CS2+CDN\n",
    "\n",
    "# separation\n",
    "bf = DS(name='DS', fstart=fstart,fend=fend, Fs=fs, nrfft=F)\n",
    "bf.compute_weights(dpTF[:,:,0])\n",
    "Xout = bf.enhance(X)\n",
    "CS1out = bf.enhance(CS1)\n",
    "CS2out = bf.enhance(CS2)\n",
    "CDNout = bf.enhance(CDN)\n",
    "\n",
    "# response\n",
    "print('TARGET', np.mean(np.abs(bf.enhance(dRTF[:,:,0]))))\n",
    "print('INTERF', np.mean(np.abs(bf.enhance(dRTF[:,:,1]))))\n",
    "\n",
    "xout = istft(Xout, Fs=fs, nfft=nfft, hop=hop)[-1].real\n",
    "cs1out = istft(CS1out, Fs=fs, nfft=nfft, hop=hop)[-1].real\n",
    "cs2out = istft(CS2out, Fs=fs, nfft=nfft, hop=hop)[-1].real\n",
    "cdnout = istft(CDNout, Fs=fs, nfft=nfft, hop=hop)[-1].real\n",
    "\n",
    "# plot\n",
    "plt.figure(figsize=(16,4))\n",
    "plt.plot(xout, label='out')\n",
    "plt.plot(xin, alpha=0.5, label='in')\n",
    "plt.legend(loc='upper left')\n",
    "plt.show()\n",
    "Audio(xout, rate=fs)\n",
    "\n",
    "plt.figure(figsize=(16,4))\n",
    "plt.subplot(131)\n",
    "plt.plot(cs1out[2*fs:9*fs], label='cs1 out')\n",
    "plt.plot(cs1in[2*fs:9*fs], alpha=0.5, label='cs1')\n",
    "plt.legend(loc='upper left')\n",
    "plt.subplot(132)\n",
    "plt.plot(cs2out[6*fs:13*fs], label='cs2 out')\n",
    "plt.plot(cs2in[6*fs:13*fs], alpha=0.5, label='cs2')\n",
    "plt.legend(loc='upper left')\n",
    "plt.subplot(133)\n",
    "plt.plot(cdnout[2*fs:9*fs], label='cdn out')\n",
    "plt.plot(cdnin[2*fs:9*fs], alpha=0.5, label='cdn')\n",
    "plt.legend(loc='upper left')\n",
    "plt.show()\n",
    "\n",
    "# metrics\n",
    "sar_out = todB(np.var(cs1in[2*fs:9*fs]) / np.var(cs1out[2*fs:9*fs]))\n",
    "print('SAR', sar_out)\n",
    "\n",
    "\n",
    "snr_in = todB(np.var(cs1in[2*fs:9*fs]) / np.var(cdnin[2*fs:9*fs]))\n",
    "snr_out = todB(np.var(cs1out[2*fs:9*fs]) / np.var(cdnout[2*fs:9*fs]))\n",
    "print('SNR', snr_in, '-->', snr_out, ':', snr_out - snr_in)\n",
    "\n",
    "sir_in = todB(np.var(cs1in[2*fs:9*fs]) / np.var(cs2in[6*fs:13*fs]))\n",
    "sir_out = todB(np.var(cs1out[2*fs:9*fs]) / np.var(cs2out[6*fs:13*fs]))\n",
    "print('SIR', sir_in, '-->', sir_out, ':', sir_out - sir_in)\n",
    "\n",
    "# listening\n",
    "print('Input')\n",
    "display(Audio(xin, rate=fs))\n",
    "\n",
    "print('Enhanced ouput')\n",
    "display(Audio(xout, rate=fs))"
   ]
  },
  {
   "cell_type": "markdown",
   "metadata": {},
   "source": [
    "## dataRTF-based MVDR"
   ]
  },
  {
   "cell_type": "code",
   "execution_count": null,
   "metadata": {},
   "outputs": [],
   "source": [
    "X = CS1+CS2+CDN\n",
    "\n",
    "bf = MVDR(name='rtfMVDR', fstart=fstart,fend=fend, Fs=fs, nrfft=nfft + 1)\n",
    "bf.compute_weights(dRTF[:, :, 0], Sigma_n),\n",
    "\n",
    "# response\n",
    "print('DATA', np.mean(np.abs(bf.enhance(dRTF[:,:,0]))), \n",
    "      'vs', np.mean(np.abs(bf.enhance(dRTF[:,:,1]))))\n",
    "\n",
    "# separation\n",
    "Xout = bf.enhance(X)\n",
    "CS1out = bf.enhance(CS1)\n",
    "CS2out = bf.enhance(CS2)\n",
    "CDNout = bf.enhance(CDN)\n",
    "\n",
    "xout = istft(Xout, Fs=fs, nfft=nfft, hop=hop)[-1].real\n",
    "cs1out = istft(CS1out, Fs=fs, nfft=nfft, hop=hop)[-1].real\n",
    "cs2out = istft(CS2out, Fs=fs, nfft=nfft, hop=hop)[-1].real\n",
    "cdnout = istft(CDNout, Fs=fs, nfft=nfft, hop=hop)[-1].real\n",
    "\n",
    "# plot\n",
    "plt.figure(figsize=(16,4))\n",
    "plt.plot(xout, label='out')\n",
    "plt.plot(xin, alpha=0.5, label='in')\n",
    "plt.legend(loc='upper left')\n",
    "plt.show()\n",
    "Audio(xout, rate=fs)\n",
    "\n",
    "plt.figure(figsize=(16,4))\n",
    "plt.subplot(131)\n",
    "plt.plot(cs1out[2*fs:9*fs], label='cs1 out')\n",
    "plt.plot(cs1in[2*fs:9*fs], alpha=0.5, label='cs1')\n",
    "plt.legend(loc='upper left')\n",
    "plt.subplot(132)\n",
    "plt.plot(cs2out[6*fs:13*fs], label='cs2 out')\n",
    "plt.plot(cs2in[6*fs:13*fs], alpha=0.5, label='cs2')\n",
    "plt.legend(loc='upper left')\n",
    "plt.subplot(133)\n",
    "plt.plot(cdnout[2*fs:9*fs], label='cdn out')\n",
    "plt.plot(cdnin[2*fs:9*fs], alpha=0.5, label='cdn')\n",
    "plt.legend(loc='upper left')\n",
    "plt.show()\n",
    "\n",
    "# metrics\n",
    "sar_out = todB(np.var(cs1in[2*fs:9*fs]) / np.var(cs1out[2*fs:9*fs]))\n",
    "print('SAR', sar_out)\n",
    "\n",
    "\n",
    "snr_in = todB(np.var(cs1in[2*fs:9*fs]) / np.var(cdnin[2*fs:9*fs]))\n",
    "snr_out = todB(np.var(cs1out[2*fs:9*fs]) / np.var(cdnout[2*fs:9*fs]))\n",
    "print('SNR', snr_in, '-->', snr_out, ':', snr_out - snr_in)\n",
    "\n",
    "sir_in = todB(np.var(cs1in[2*fs:9*fs]) / np.var(cs2in[6*fs:13*fs]))\n",
    "sir_out = todB(np.var(cs1out[2*fs:9*fs]) / np.var(cs2out[6*fs:13*fs]))\n",
    "print('SIR', sir_in, '-->', sir_out, ':', sir_out - sir_in)\n",
    "\n",
    "# listening\n",
    "print('Input')\n",
    "display(Audio(xin, rate=fs))\n",
    "\n",
    "print('Enhanced ouput')\n",
    "display(Audio(xout, rate=fs))"
   ]
  },
  {
   "cell_type": "markdown",
   "metadata": {},
   "source": [
    "## ecoRTF-based MVDR"
   ]
  },
  {
   "cell_type": "code",
   "execution_count": null,
   "metadata": {},
   "outputs": [],
   "source": [
    "X = CS1+CS2+CDN\n",
    "\n",
    "bf = MVDR(name='ecoMVDR', fstart=fstart,fend=fend, Fs=fs, nrfft=F)\n",
    "bf.compute_weights(eRTF[:, :, 0], Sigma_n),\n",
    "\n",
    "print('ECHO', np.mean(np.abs(bf.enhance(eRTF[:,:,0]))), \n",
    "      'vs', np.mean(np.abs(bf.enhance(eRTF[:,:,1]))))\n",
    "\n",
    "# separation\n",
    "Xout = bf.enhance(X)\n",
    "CS1out = bf.enhance(CS1)\n",
    "CS2out = bf.enhance(CS2)\n",
    "CDNout = bf.enhance(CDN)\n",
    "\n",
    "xout = istft(Xout, Fs=fs, nfft=nfft, hop=hop)[-1].real\n",
    "cs1out = istft(CS1out, Fs=fs, nfft=nfft, hop=hop)[-1].real\n",
    "cs2out = istft(CS2out, Fs=fs, nfft=nfft, hop=hop)[-1].real\n",
    "cdnout = istft(CDNout, Fs=fs, nfft=nfft, hop=hop)[-1].real\n",
    "\n",
    "# plot\n",
    "plt.figure(figsize=(16,4))\n",
    "plt.plot(xout, label='out')\n",
    "plt.plot(xin, alpha=0.5, label='in')\n",
    "plt.legend(loc='upper left')\n",
    "plt.show()\n",
    "Audio(xout, rate=fs)\n",
    "\n",
    "plt.figure(figsize=(16,4))\n",
    "plt.subplot(131)\n",
    "plt.plot(cs1out[2*fs:9*fs], label='cs1 out')\n",
    "plt.plot(cs1in[2*fs:9*fs], alpha=0.5, label='cs1')\n",
    "plt.legend(loc='upper left')\n",
    "plt.subplot(132)\n",
    "plt.plot(cs2out[6*fs:13*fs], label='cs2 out')\n",
    "plt.plot(cs2in[6*fs:13*fs], alpha=0.5, label='cs2')\n",
    "plt.legend(loc='upper left')\n",
    "plt.subplot(133)\n",
    "plt.plot(cdnout[2*fs:9*fs], label='cdn out')\n",
    "plt.plot(cdnin[2*fs:9*fs], alpha=0.5, label='cdn')\n",
    "plt.legend(loc='upper left')\n",
    "plt.show()\n",
    "\n",
    "# metrics\n",
    "sar_out = todB(np.var(cs1in[2*fs:9*fs]) / np.var(cs1out[2*fs:9*fs]))\n",
    "print('SAR', sar_out)\n",
    "\n",
    "\n",
    "snr_in = todB(np.var(cs1in[2*fs:9*fs]) / np.var(cdnin[2*fs:9*fs]))\n",
    "snr_out = todB(np.var(cs1out[2*fs:9*fs]) / np.var(cdnout[2*fs:9*fs]))\n",
    "print('SNR', snr_in, '-->', snr_out, ':', snr_out - snr_in)\n",
    "\n",
    "sir_in = todB(np.var(cs1in[2*fs:9*fs]) / np.var(cs2in[6*fs:13*fs]))\n",
    "sir_out = todB(np.var(cs1out[2*fs:9*fs]) / np.var(cs2out[6*fs:13*fs]))\n",
    "print('SIR', sir_in, '-->', sir_out, ':', sir_out - sir_in)\n",
    "\n",
    "# listening\n",
    "print('Input')\n",
    "display(Audio(xin, rate=fs))\n",
    "\n",
    "print('Enhanced ouput')\n",
    "display(Audio(xout, rate=fs))"
   ]
  },
  {
   "cell_type": "markdown",
   "metadata": {},
   "source": [
    "## dataRTF-based LCMV"
   ]
  },
  {
   "cell_type": "code",
   "execution_count": null,
   "metadata": {},
   "outputs": [],
   "source": [
    "X = CS1+CS2+CDN\n",
    "\n",
    "bf = LCMV(name='rtfLCMV', fstart=fstart,fend=fend, Fs=fs, nrfft=F)\n",
    "bf.compute_weights(dRTF, Sigma_n),\n",
    "Xout = bf.enhance(X)\n",
    "\n",
    "# response\n",
    "print('TARGET', np.mean(np.abs(bf.enhance(dRTF[:,:,0]))))\n",
    "print('INTERF', np.mean(np.abs(bf.enhance(dRTF[:,:,1]))))\n",
    "\n",
    "# separation\n",
    "Xout = bf.enhance(X)\n",
    "CS1out = bf.enhance(CS1)\n",
    "CS2out = bf.enhance(CS2)\n",
    "CDNout = bf.enhance(CDN)\n",
    "\n",
    "xout = istft(Xout, Fs=fs, nfft=nfft, hop=hop)[-1].real\n",
    "cs1out = istft(CS1out, Fs=fs, nfft=nfft, hop=hop)[-1].real\n",
    "cs2out = istft(CS2out, Fs=fs, nfft=nfft, hop=hop)[-1].real\n",
    "cdnout = istft(CDNout, Fs=fs, nfft=nfft, hop=hop)[-1].real\n",
    "\n",
    "# plot\n",
    "plt.figure(figsize=(16,4))\n",
    "plt.plot(xout, label='out')\n",
    "plt.plot(xin, alpha=0.5, label='in')\n",
    "plt.legend(loc='upper left')\n",
    "plt.show()\n",
    "Audio(xout, rate=fs)\n",
    "\n",
    "plt.figure(figsize=(16,4))\n",
    "plt.subplot(131)\n",
    "plt.plot(cs1out[2*fs:9*fs], label='cs1 out')\n",
    "plt.plot(cs1in[2*fs:9*fs], alpha=0.5, label='cs1')\n",
    "plt.legend(loc='upper left')\n",
    "plt.subplot(132)\n",
    "plt.plot(cs2out[6*fs:13*fs], label='cs2 out')\n",
    "plt.plot(cs2in[6*fs:13*fs], alpha=0.5, label='cs2')\n",
    "plt.legend(loc='upper left')\n",
    "plt.subplot(133)\n",
    "plt.plot(cdnout[2*fs:9*fs], label='cdn out')\n",
    "plt.plot(cdnin[2*fs:9*fs], alpha=0.5, label='cdn')\n",
    "plt.legend(loc='upper left')\n",
    "plt.show()\n",
    "\n",
    "# metrics\n",
    "sar_out = todB(np.var(cs1in[2*fs:9*fs]) / np.var(cs1out[2*fs:9*fs]))\n",
    "print('SAR', sar_out)\n",
    "\n",
    "\n",
    "snr_in = todB(np.var(cs1in[2*fs:9*fs]) / np.var(cdnin[2*fs:9*fs]))\n",
    "snr_out = todB(np.var(cs1out[2*fs:9*fs]) / np.var(cdnout[2*fs:9*fs]))\n",
    "print('SNR', snr_in, '-->', snr_out, ':', snr_out - snr_in)\n",
    "\n",
    "sir_in = todB(np.var(cs1in[2*fs:9*fs]) / np.var(cs2in[6*fs:13*fs]))\n",
    "sir_out = todB(np.var(cs1out[2*fs:9*fs]) / np.var(cs2out[6*fs:13*fs]))\n",
    "print('SIR', sir_in, '-->', sir_out, ':', sir_out - sir_in)\n",
    "\n",
    "# listening\n",
    "print('Input')\n",
    "display(Audio(xin, rate=fs))\n",
    "\n",
    "print('Enhanced ouput')\n",
    "display(Audio(xout, rate=fs))"
   ]
  },
  {
   "cell_type": "markdown",
   "metadata": {},
   "source": [
    "## ecoRTF-based LCMV"
   ]
  },
  {
   "cell_type": "code",
   "execution_count": null,
   "metadata": {},
   "outputs": [],
   "source": [
    "X = CS1+CS2+CDN\n",
    "\n",
    "bf = LCMV(name='ecoLCMV', fstart=fstart,fend=fend, Fs=fs, nrfft=F)\n",
    "bf.compute_weights(eRTF, Sigma_n),\n",
    "\n",
    "# response\n",
    "print('TARGET', np.mean(np.abs(bf.enhance(eRTF[:,:,0]))))\n",
    "print('INTERF', np.mean(np.abs(bf.enhance(eRTF[:,:,1]))))\n",
    "\n",
    "# separation\n",
    "Xout = bf.enhance(X)\n",
    "CS1out = bf.enhance(CS1)\n",
    "CS2out = bf.enhance(CS2)\n",
    "CDNout = bf.enhance(CDN)\n",
    "\n",
    "xout = istft(Xout, Fs=fs, nfft=nfft, hop=hop)[-1].real\n",
    "cs1out = istft(CS1out, Fs=fs, nfft=nfft, hop=hop)[-1].real\n",
    "cs2out = istft(CS2out, Fs=fs, nfft=nfft, hop=hop)[-1].real\n",
    "cdnout = istft(CDNout, Fs=fs, nfft=nfft, hop=hop)[-1].real\n",
    "\n",
    "# plot\n",
    "plt.figure(figsize=(16,4))\n",
    "plt.plot(xout, label='out')\n",
    "plt.plot(xin, alpha=0.5, label='in')\n",
    "plt.legend(loc='upper left')\n",
    "plt.show()\n",
    "Audio(xout, rate=fs)\n",
    "\n",
    "plt.figure(figsize=(16,4))\n",
    "plt.subplot(131)\n",
    "plt.plot(cs1out[2*fs:9*fs], label='cs1 out')\n",
    "plt.plot(cs1in[2*fs:9*fs], alpha=0.5, label='cs1')\n",
    "plt.legend(loc='upper left')\n",
    "plt.subplot(132)\n",
    "plt.plot(cs2out[6*fs:13*fs], label='cs2 out')\n",
    "plt.plot(cs2in[6*fs:13*fs], alpha=0.5, label='cs2')\n",
    "plt.legend(loc='upper left')\n",
    "plt.subplot(133)\n",
    "plt.plot(cdnout[2*fs:9*fs], label='cdn out')\n",
    "plt.plot(cdnin[2*fs:9*fs], alpha=0.5, label='cdn')\n",
    "plt.legend(loc='upper left')\n",
    "plt.show()\n",
    "\n",
    "# metrics\n",
    "sar_out = todB(np.var(cs1in[2*fs:9*fs]) / np.var(cs1out[2*fs:9*fs]))\n",
    "print('SAR', sar_out)\n",
    "\n",
    "\n",
    "snr_in = todB(np.var(cs1in[2*fs:9*fs]) / np.var(cdnin[2*fs:9*fs]))\n",
    "snr_out = todB(np.var(cs1out[2*fs:9*fs]) / np.var(cdnout[2*fs:9*fs]))\n",
    "print('SNR', snr_in, '-->', snr_out, ':', snr_out - snr_in)\n",
    "\n",
    "sir_in = todB(np.var(cs1in[2*fs:9*fs]) / np.var(cs2in[6*fs:13*fs]))\n",
    "sir_out = todB(np.var(cs1out[2*fs:9*fs]) / np.var(cs2out[6*fs:13*fs]))\n",
    "print('SIR', sir_in, '-->', sir_out, ':', sir_out - sir_in)\n",
    "\n",
    "# listening\n",
    "print('Input')\n",
    "display(Audio(xin, rate=fs))\n",
    "\n",
    "print('Enhanced ouput')\n",
    "display(Audio(xout, rate=fs))"
   ]
  }
 ],
 "metadata": {
  "kernelspec": {
   "display_name": "Python 3",
   "language": "python",
   "name": "python3"
  },
  "language_info": {
   "codemirror_mode": {
    "name": "ipython",
    "version": 3
   },
   "file_extension": ".py",
   "mimetype": "text/x-python",
   "name": "python",
   "nbconvert_exporter": "python",
   "pygments_lexer": "ipython3",
   "version": "3.6.10"
  },
  "toc": {
   "base_numbering": 1,
   "nav_menu": {},
   "number_sections": true,
   "sideBar": true,
   "skip_h1_title": false,
   "title_cell": "Table of Contents",
   "title_sidebar": "Contents",
   "toc_cell": false,
   "toc_position": {
    "height": "calc(100% - 180px)",
    "left": "10px",
    "top": "150px",
    "width": "165px"
   },
   "toc_section_display": true,
   "toc_window_display": true
  }
 },
 "nbformat": 4,
 "nbformat_minor": 4
}
